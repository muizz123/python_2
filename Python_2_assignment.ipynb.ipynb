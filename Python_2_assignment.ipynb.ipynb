{
 "cells": [
  {
   "cell_type": "markdown",
   "id": "72e2cef6",
   "metadata": {},
   "source": [
    "# Basic Problems:"
   ]
  },
  {
   "cell_type": "markdown",
   "id": "97c480e9",
   "metadata": {},
   "source": [
    "1.Variable Swap: Write a Python program to swap the values of two variables without using a temporary variable."
   ]
  },
  {
   "cell_type": "code",
   "execution_count": 3,
   "id": "f7253b61",
   "metadata": {},
   "outputs": [
    {
     "name": "stdout",
     "output_type": "stream",
     "text": [
      "Print x before swap5\n",
      "Print y before swap 10\n",
      "Print x after swap10\n",
      "Print y after swap 5\n"
     ]
    }
   ],
   "source": [
    "x=5\n",
    "y=10\n",
    "print ('Print x before swap{}'.format(x))\n",
    "print ('Print y before swap {}'.format(y))\n",
    "x,y = y,x\n",
    "\n",
    "print ('Print x after swap{}'.format(x))\n",
    "print ('Print y after swap {}'.format(y))"
   ]
  },
  {
   "cell_type": "markdown",
   "id": "4c654db7",
   "metadata": {},
   "source": [
    "2.Even or Odd: Write a Python program that takes an integer as input and prints whether it is even or odd."
   ]
  },
  {
   "cell_type": "code",
   "execution_count": 5,
   "id": "715a13e6",
   "metadata": {},
   "outputs": [
    {
     "name": "stdout",
     "output_type": "stream",
     "text": [
      "Given Number is = 2\n",
      "Given Number is Even\n"
     ]
    }
   ],
   "source": [
    "x = int(input ('Given Number is = '))\n",
    "if x%2 ==0:\n",
    "    print ('Given Number is Even')\n",
    "else :\n",
    "    print ('Given Number is Odd')"
   ]
  },
  {
   "cell_type": "markdown",
   "id": "e02fd57e",
   "metadata": {},
   "source": [
    "3. String Reverse: Write a Python function to reverse a given string and return the reversed string."
   ]
  },
  {
   "cell_type": "code",
   "execution_count": 72,
   "id": "c585a221",
   "metadata": {},
   "outputs": [
    {
     "name": "stdout",
     "output_type": "stream",
     "text": [
      "Enter string value Hello\n",
      "Before reversed = Hello\n",
      "After reversed = olleH\n"
     ]
    }
   ],
   "source": [
    "originalStr =input ('Enter string value ')\n",
    "z = ''\n",
    "print ('Before reversed = {}'.format(originalStr))\n",
    "\n",
    "for element in reversed(range(0, len(originalStr))):\n",
    "                           z = '{}{}'.format(z,originalStr[element])\n",
    "                      \n",
    "print('After reversed = {}'.format(z))"
   ]
  },
  {
   "cell_type": "markdown",
   "id": "49b7b265",
   "metadata": {},
   "source": [
    "4. Type Conversion: Given a list of integers, write a Python program to convert each element of the list to a string."
   ]
  },
  {
   "cell_type": "code",
   "execution_count": 85,
   "id": "6449bcfb",
   "metadata": {},
   "outputs": [
    {
     "name": "stdout",
     "output_type": "stream",
     "text": [
      "['0', '1', '2', '3', '4', '5']\n"
     ]
    }
   ],
   "source": [
    "i = [1,2,3,4,5]\n",
    "z = []\n",
    "\n",
    "for y in range (0,len(i)+1):\n",
    "    z.append(str(y))\n",
    "    \n",
    "print(z)\n"
   ]
  },
  {
   "cell_type": "markdown",
   "id": "062f52af",
   "metadata": {},
   "source": [
    "5. Temperature Converter: Write a Python program that converts a temperature in Celsius to Fahrenheit. Take the Celsius temperature as input from the user."
   ]
  },
  {
   "cell_type": "code",
   "execution_count": 86,
   "id": "11d2e45f",
   "metadata": {},
   "outputs": [
    {
     "name": "stdout",
     "output_type": "stream",
     "text": [
      "Input temperature in fahrenheit 55\n",
      "Temperature in Celsius is = 12.777777777777777\n"
     ]
    }
   ],
   "source": [
    "tem_fahrenheeit = int(input('Input temperature in fahrenheit '))\n",
    "tem_cel = (tem_fahrenheeit-32)/1.8\n",
    "print ('Temperature in Celsius is = {}'.format(tem_cel))"
   ]
  },
  {
   "cell_type": "markdown",
   "id": "979a009d",
   "metadata": {},
   "source": [
    "6. Data Type Checker: Write a Python function that takes a variable as input and returns the data type of the variable as a string (e.g., “int”, “float”, “str”, “list”, etc.)."
   ]
  },
  {
   "cell_type": "code",
   "execution_count": 4,
   "id": "8eab2632",
   "metadata": {},
   "outputs": [
    {
     "name": "stdout",
     "output_type": "stream",
     "text": [
      "Enter int4\n",
      "Enter float5\n",
      "Enter string6\n",
      "Before convert = int\n",
      "Before convert = float\n",
      "Before convert = str\n"
     ]
    }
   ],
   "source": [
    "i = [int(input('Enter int')),float(input('Enter float')),str(input('Enter string'))]\n",
    "#z = str(i)\n",
    "for y in range(0,len(i)):\n",
    "         print('Before convert = {}'.format(type(i[y]).__name__))\n",
    "        "
   ]
  },
  {
   "cell_type": "markdown",
   "id": "6fb9875a",
   "metadata": {},
   "source": [
    "7. String Palindrome: Write a Python function to check if a given string is a palindrome or not."
   ]
  },
  {
   "cell_type": "code",
   "execution_count": 167,
   "id": "1125ccae",
   "metadata": {},
   "outputs": [
    {
     "name": "stdout",
     "output_type": "stream",
     "text": [
      "Before reversed = civic\n",
      "After reversed = civic\n",
      "Entered Value is Palindrome\n"
     ]
    }
   ],
   "source": [
    "def verify_palindrome(x):\n",
    "    originalStr =x\n",
    "    z = ''\n",
    "    print ('Before reversed = {}'.format(originalStr))\n",
    "\n",
    "    for element in reversed(range(0, len(originalStr))):\n",
    "                               z = '{}{}'.format(z,originalStr[element])\n",
    "\n",
    "    print('After reversed = {}'.format(z))\n",
    "    if x ==z:\n",
    "        print ('Entered Value is Palindrome')\n",
    "    else :\n",
    "        print ('Entered Value is Not a Palindrome')\n",
    "\n",
    "verify_palindrome(x='civic')"
   ]
  },
  {
   "cell_type": "markdown",
   "id": "b737271e",
   "metadata": {},
   "source": [
    "8. String Reversal with Slicing: Write a Python function to reverse a given string using slicing."
   ]
  },
  {
   "cell_type": "code",
   "execution_count": 20,
   "id": "ffd11be2",
   "metadata": {},
   "outputs": [
    {
     "name": "stdout",
     "output_type": "stream",
     "text": [
      "Enter value = Hello world\n",
      "After slicing = dlrow olleH\n"
     ]
    }
   ],
   "source": [
    "letters =input('Enter value = ')\n",
    "\n",
    "z = letters[slice(None, None, -1)]\n",
    "print('After slicing = {}'.format(z))"
   ]
  },
  {
   "cell_type": "markdown",
   "id": "36548721",
   "metadata": {},
   "source": [
    "9. String Concatenation: Write a Python program that takes two strings as input and concatenates them into a single string without using the `+` operator."
   ]
  },
  {
   "cell_type": "code",
   "execution_count": 22,
   "id": "cb2e5004",
   "metadata": {},
   "outputs": [
    {
     "name": "stdout",
     "output_type": "stream",
     "text": [
      "Enter the first string = First string\n",
      "Enter the second string = second string\n",
      "First string second string\n"
     ]
    }
   ],
   "source": [
    "first_string = input('Enter the first string = ')\n",
    "second_string = input('Enter the second string = ')\n",
    "\n",
    "z = '{} {}'.format(first_string,second_string)\n",
    "print (z)"
   ]
  },
  {
   "cell_type": "markdown",
   "id": "14cfc9b9",
   "metadata": {},
   "source": [
    "10. Typecasting Challenge: Given three variables: `a = ‘100’`, `b = 25`, and `c = ‘10.5’`, write a Python program to perform the following operations and print the results: – Convert `a` to an integer and add it to `b`. – Convert `c` to a float and subtract it from the result of the first operation. – Convert the final result to a string and concatenate it with the string ” is the answer.”"
   ]
  },
  {
   "cell_type": "code",
   "execution_count": 45,
   "id": "43a2a888",
   "metadata": {},
   "outputs": [
    {
     "name": "stdout",
     "output_type": "stream",
     "text": [
      "After convert a and added with b result = 125\n",
      "After convert c and subtract from z result = 114.5\n",
      "\"114.5\" is the answe\n",
      "final result type is = str\n"
     ]
    }
   ],
   "source": [
    "a = '100'\n",
    "b = 25\n",
    "c = '10.5'\n",
    "\n",
    "z = int(a) +b\n",
    "print ('After convert a and added with b result = {}'.format(z))\n",
    "\n",
    "d = z - float(c)\n",
    "print ('After convert c and subtract from z result = {}'.format(d))\n",
    "\n",
    "final_result = str(d)\n",
    "print ('\"{}\" is the answe'.format(final_result))\n",
    "print('final result type is = {}'.format(type(final_result).__name__))"
   ]
  },
  {
   "cell_type": "markdown",
   "id": "96d97378",
   "metadata": {},
   "source": [
    "# Python Conditional Statements:"
   ]
  },
  {
   "cell_type": "markdown",
   "id": "bad5cc10",
   "metadata": {},
   "source": [
    "11. Positive, Negative, or Zero: Write a Python program that takes a number as input and prints whether it is positive, negative, or zero."
   ]
  },
  {
   "cell_type": "code",
   "execution_count": 47,
   "id": "d977b99f",
   "metadata": {},
   "outputs": [
    {
     "name": "stdout",
     "output_type": "stream",
     "text": [
      "Enter the Number = 0\n",
      "The number is zero\n"
     ]
    }
   ],
   "source": [
    "x = int (input('Enter the Number = '))\n",
    "if x>0 :\n",
    "    print ('The number is positive')\n",
    "elif x<0 :\n",
    "    print ('The number is negative')\n",
    "elif x==0:\n",
    "    print ('The number is zero')"
   ]
  },
  {
   "cell_type": "markdown",
   "id": "6cc8ff6a",
   "metadata": {},
   "source": [
    "12. Largest of Three Numbers: Write a Python program that takes three numbers as input and prints the largest among them."
   ]
  },
  {
   "cell_type": "code",
   "execution_count": 48,
   "id": "46d934f5",
   "metadata": {},
   "outputs": [
    {
     "name": "stdout",
     "output_type": "stream",
     "text": [
      "x num = 5\n",
      "y num = 6\n",
      "z num = 7\n",
      "z is the Largest number\n"
     ]
    }
   ],
   "source": [
    "x= int (input('x num = '))\n",
    "y = int (input('y num = '))\n",
    "z = int(input('z num = '))\n",
    "\n",
    "if x>y and x>z : \n",
    "    print ('x is the Largest number')\n",
    "elif y>x and y>z: \n",
    "    print ('y is the Largest number')\n",
    "else :\n",
    "    print ('z is the Largest number')"
   ]
  },
  {
   "cell_type": "markdown",
   "id": "9a681909",
   "metadata": {},
   "source": [
    "13. Leap Year Checker: Write a Python program that takes a year as input and determines if it is a leap year or not."
   ]
  },
  {
   "cell_type": "code",
   "execution_count": 49,
   "id": "8ef75166",
   "metadata": {},
   "outputs": [
    {
     "name": "stdout",
     "output_type": "stream",
     "text": [
      "Enter the year positive value = 3034\n",
      "The year is not a Leap year\n"
     ]
    }
   ],
   "source": [
    "year = int(input('Enter the year positive value = '))\n",
    "if year >0:\n",
    "    if year%4==0:\n",
    "        print ('The year is a Leap year')\n",
    "    else : \n",
    "        print('The year is not a Leap year')\n",
    "else :\n",
    "    print ('The year should be positive value')"
   ]
  },
  {
   "cell_type": "markdown",
   "id": "4432cd41",
   "metadata": {},
   "source": [
    "14. Grades Classification: Write a Python program that takes a student’s percentage as input and prints their corresponding grade according to the following criteria: – 90% or above: A+ – 80-89%: A – 70-79%: B – 60-69%: C – Below 60%: Fail"
   ]
  },
  {
   "cell_type": "code",
   "execution_count": 52,
   "id": "434d0623",
   "metadata": {},
   "outputs": [
    {
     "name": "stdout",
     "output_type": "stream",
     "text": [
      "Enter percentage in positive value and less than 100\n",
      "Percentage is = 89\n",
      "Grade is A\n"
     ]
    }
   ],
   "source": [
    "print('Enter percentage in positive value and less than 100')\n",
    "x = int (input('Percentage is = '))\n",
    "if x>=0 and x<100:\n",
    "    if x>=90:\n",
    "        print ('Grade is A+')\n",
    "    elif x>=80:\n",
    "        print('Grade is A')\n",
    "    elif x>=70:\n",
    "        print ('Grade is B')\n",
    "    elif x>=60:\n",
    "        print ('Grade is C')\n",
    "    else :\n",
    "        print ('Fail')\n",
    "else :\n",
    "    print('Enter a valid percentage')"
   ]
  },
  {
   "cell_type": "markdown",
   "id": "b10d26d0",
   "metadata": {},
   "source": [
    "15. Vowel or Consonant: Write a Python program that takes a single character as input and determines whether it is a vowel or a consonant."
   ]
  },
  {
   "cell_type": "code",
   "execution_count": 71,
   "id": "165419ad",
   "metadata": {},
   "outputs": [
    {
     "name": "stdout",
     "output_type": "stream",
     "text": [
      "Enter a letter: o\n",
      "o  is a vowel.\n"
     ]
    }
   ],
   "source": [
    "x = input(\"Enter a letter: \")\n",
    "if letter in ('a','e','i','o','u'):\n",
    "    print(x,\" is a vowel.\")\n",
    "else:\n",
    "    print(x,\"is a consonant.\")\n",
    "        "
   ]
  },
  {
   "cell_type": "markdown",
   "id": "efcb5434",
   "metadata": {},
   "source": [
    "16. Time Classification: Write a Python program that takes the time in hours (24-hour format) as input and prints “Good Morning”, “Good Afternoon”, “Good Evening”, or “Good Night” based on the time."
   ]
  },
  {
   "cell_type": "code",
   "execution_count": 4,
   "id": "cc77872c",
   "metadata": {},
   "outputs": [
    {
     "name": "stdout",
     "output_type": "stream",
     "text": [
      "Enter Time in 24 format 5\n",
      "Good Morning\n"
     ]
    }
   ],
   "source": [
    "x = int(input('Enter Time in 24 format '))\n",
    "if x>=0 and x<24:\n",
    "            if x>=0 and x<12:\n",
    "                print ('Good Morning')\n",
    "            elif x>=12 and x<17:\n",
    "                print('Good Afternoon')\n",
    "            elif x>=17 and x<19:\n",
    "                print ('Good Evening')\n",
    "            else:\n",
    "                print ('Good Night')\n",
    "else :\n",
    "    print('Enter a valid Value')"
   ]
  },
  {
   "cell_type": "markdown",
   "id": "4135edf0",
   "metadata": {},
   "source": [
    "17. Triangle Type Checker: Write a Python program that takes three sides of a triangle as input and determines whether it forms an equilateral, isosceles, or scalene triangle."
   ]
  },
  {
   "cell_type": "code",
   "execution_count": 5,
   "id": "b2386976",
   "metadata": {},
   "outputs": [
    {
     "name": "stdout",
     "output_type": "stream",
     "text": [
      "x: 4\n",
      "y: 5\n",
      "z: 3\n",
      "Scalene triangle\n"
     ]
    }
   ],
   "source": [
    "x = int(input(\"x: \"))\n",
    "y = int(input(\"y: \"))\n",
    "z = int(input(\"z: \"))\n",
    "\n",
    "if x == y == z:\n",
    "    print(\"Equilateral triangle\")\n",
    "elif x==y or y==z or z==x:\n",
    "    print(\"isosceles triangle\")\n",
    "else:\n",
    "    print(\"Scalene triangle\")"
   ]
  },
  {
   "cell_type": "markdown",
   "id": "23dbaa42",
   "metadata": {},
   "source": [
    "18. Quadratic Equation Solver: Write a Python program that takes the coefficients (a, b, c) of a quadratic equation as input and calculates and prints the real roots (if they exist) or a message indicating the complex roots."
   ]
  },
  {
   "cell_type": "code",
   "execution_count": 5,
   "id": "fd7c5324",
   "metadata": {},
   "outputs": [
    {
     "name": "stdout",
     "output_type": "stream",
     "text": [
      "a = 1\n",
      "b = 3\n",
      "c = -24\n",
      "real and different roots\n",
      "3.623475382979799\n",
      "-6.623475382979799\n"
     ]
    }
   ],
   "source": [
    "import math\n",
    "\n",
    "a = int (input('a = '))\n",
    "b = int (input('b = '))\n",
    "c = int (input('c = '))\n",
    "\n",
    "if a !=0 :\n",
    "        dis = b * b - 4 * a * c \n",
    "        sqrt_val = math.sqrt(abs(dis))\n",
    "        \n",
    "        if dis > 0: \n",
    "            print(\"real and different roots\") \n",
    "            print((-b + sqrt_val)/(2 * a)) \n",
    "            print((-b - sqrt_val)/(2 * a))     \n",
    "        elif dis == 0: \n",
    "            print(\"real and same roots\") \n",
    "            print(-b / (2 * a))            \n",
    "        else:\n",
    "            print(\"Complex Roots\") \n",
    "          \n",
    "          \n",
    "else:\n",
    "    print ('Input correct quadratic equation\"')"
   ]
  },
  {
   "cell_type": "markdown",
   "id": "5391f8d7",
   "metadata": {},
   "source": [
    "19. Number Ranges: Write a Python program that takes an integer as input and prints whether the number falls within the ranges: 0-50, 51-100, 101-150, or above 150."
   ]
  },
  {
   "cell_type": "code",
   "execution_count": 10,
   "id": "99da9f0b",
   "metadata": {},
   "outputs": [
    {
     "name": "stdout",
     "output_type": "stream",
     "text": [
      "x = -1\n",
      "Enter a positive value\n"
     ]
    }
   ],
   "source": [
    "x = int(input('x = '))\n",
    "\n",
    "if x>=0 :\n",
    "            if x>=0 and x<=50:\n",
    "                print ('Range is between 0-50')\n",
    "            elif x>=51 and x<=100:\n",
    "                print('Range is between 51-100')\n",
    "            elif x>=101 and x<150:\n",
    "                print ('Range is between 101-150')\n",
    "            else:\n",
    "                print ('Range is above 150')\n",
    "else :\n",
    "    print('Enter a positive value')\n"
   ]
  },
  {
   "cell_type": "markdown",
   "id": "9d754e9d",
   "metadata": {},
   "source": [
    "# For & While Loops:"
   ]
  },
  {
   "cell_type": "markdown",
   "id": "6f91a02e",
   "metadata": {},
   "source": [
    "20. Sum of N Numbers: Write a Python program using a for loop to calculate the sum of the first N natural numbers, where N is taken as input from the user."
   ]
  },
  {
   "cell_type": "code",
   "execution_count": 10,
   "id": "f9026779",
   "metadata": {},
   "outputs": [
    {
     "name": "stdout",
     "output_type": "stream",
     "text": [
      "Enter a number: 5\n",
      "The sum of the first N natural numbers is 15\n"
     ]
    }
   ],
   "source": [
    "n = int(input('Enter a number: '))\n",
    "sum = 0\n",
    "i = 0\n",
    "for z in range(0,n+1):\n",
    "        sum = sum+z\n",
    "\n",
    "        \n",
    "print(\"The sum of the first {} natural numbers is {}\".format(n,sum))\n"
   ]
  },
  {
   "cell_type": "markdown",
   "id": "691e62fd",
   "metadata": {},
   "source": [
    "21. Factorial Calculator: Write a Python program using a while loop to calculate the factorial of a given number N."
   ]
  },
  {
   "cell_type": "code",
   "execution_count": 5,
   "id": "605fa229",
   "metadata": {},
   "outputs": [
    {
     "name": "stdout",
     "output_type": "stream",
     "text": [
      "Enter a number: 10\n",
      "The factorial of 10 is 3628800\n"
     ]
    }
   ],
   "source": [
    "n = int(input('Enter a number: '))\n",
    "sum = 1\n",
    "i = 1\n",
    "while i <= n:           \n",
    "            sum = sum*i\n",
    "            i=i+1\n",
    "\n",
    "        \n",
    "print('The factorial of {} is {}'.format(n,sum))"
   ]
  },
  {
   "cell_type": "markdown",
   "id": "a26563df",
   "metadata": {},
   "source": [
    "22. Table of a Number: Write a Python program using a for loop to print the multiplication table of a given number N."
   ]
  },
  {
   "cell_type": "code",
   "execution_count": 15,
   "id": "13e4b7ca",
   "metadata": {},
   "outputs": [
    {
     "name": "stdout",
     "output_type": "stream",
     "text": [
      "Enter number 5\n",
      "1 X 5 = 5\n",
      "2 X 5 = 10\n",
      "3 X 5 = 15\n",
      "4 X 5 = 20\n",
      "5 X 5 = 25\n",
      "6 X 5 = 30\n",
      "7 X 5 = 35\n",
      "8 X 5 = 40\n",
      "9 X 5 = 45\n",
      "10 X 5 = 50\n"
     ]
    }
   ],
   "source": [
    "x = int(input('Enter number '))\n",
    "z =0\n",
    "for i in range (1,11):\n",
    "            z = i*x\n",
    "            print ('{} X {} = {}'.format(i,x,z))"
   ]
  },
  {
   "cell_type": "markdown",
   "id": "12240ab4",
   "metadata": {},
   "source": [
    "23. Count Digits in a Number: Write a Python program using a while loop to count the number of digits in a given integer N."
   ]
  },
  {
   "cell_type": "code",
   "execution_count": 1,
   "id": "d0d155e1",
   "metadata": {},
   "outputs": [
    {
     "name": "stdout",
     "output_type": "stream",
     "text": [
      "Enter Number is 54545\n",
      "Number of digits: 5\n"
     ]
    }
   ],
   "source": [
    "n = int(input('Enter Number is '))\n",
    "count = 0\n",
    "\n",
    "while n!= 0:\n",
    "        n //= 10\n",
    "        count += 1\n",
    "\n",
    "print(\"Number of digits: \" + str(count))"
   ]
  },
  {
   "cell_type": "markdown",
   "id": "2148ce9d",
   "metadata": {},
   "source": [
    "24. Fibonacci Sequence: Write a Python program using a for loop to generate the Fibonacci sequence up to a given limit N."
   ]
  },
  {
   "cell_type": "code",
   "execution_count": 2,
   "id": "38ad3437",
   "metadata": {},
   "outputs": [
    {
     "name": "stdout",
     "output_type": "stream",
     "text": [
      "Enter the number 10\n",
      " 1  2  3  5  8  13  21  34 "
     ]
    }
   ],
   "source": [
    "n1=0\n",
    "n2 = 1\n",
    "sum = 0\n",
    "x =int (input('Enter the number '))\n",
    "\n",
    "for i in range(2,x):\n",
    "    sum = n1+n2\n",
    "    print (' {}'.format(sum),end = (' '))\n",
    "    n1=n2\n",
    "    n2=sum"
   ]
  },
  {
   "cell_type": "markdown",
   "id": "deb11234",
   "metadata": {},
   "source": [
    "25. Sum of Even Numbers: Write a Python program using a while loop to calculate the sum of all even numbers between 1 and N, where N is taken as input from the user."
   ]
  },
  {
   "cell_type": "code",
   "execution_count": 6,
   "id": "c46a5f59",
   "metadata": {},
   "outputs": [
    {
     "name": "stdout",
     "output_type": "stream",
     "text": [
      "Enter a number: 20\n",
      "Sum of all the even numbers is 110 from 1 to 20\n"
     ]
    }
   ],
   "source": [
    "num = int(input('Enter a number: '))\n",
    "sum = 0\n",
    "i = 0\n",
    "while i <= num:\n",
    "    if i % 2 == 0:        \n",
    "        sum+=i\n",
    "    i+=1\n",
    "print('Sum of all the even numbers is {} from 1 to {}'.format(sum,num))"
   ]
  },
  {
   "cell_type": "markdown",
   "id": "0ba99c91",
   "metadata": {},
   "source": [
    "26. Print Patterns: Write a Python program using nested for loops to print various patterns, such as a right-angled triangle, an inverted right-angled triangle, and so on."
   ]
  },
  {
   "cell_type": "code",
   "execution_count": 1,
   "id": "a0938d70",
   "metadata": {},
   "outputs": [],
   "source": [
    "rows = int(input(\"Please Enter the Total Number of Rows  : \"))\n",
    "\n",
    "print(\"Right Angled Triangle Star Pattern\") \n",
    "for i in range(1, rows + 1):\n",
    "    for j in range(1, i + 1):\n",
    "        print('*', end = '  ')\n",
    "    print()\n",
    "    \n",
    "print(\"Inverted right-angled triangle\") \n",
    "\n",
    "for i in range(rows+1, 0, -1):    \n",
    "    \n",
    "    for j in range(0, i-1):        \n",
    "        \n",
    "        print('*', end=' ')\n",
    "    print(\"*\")"
   ]
  },
  {
   "cell_type": "markdown",
   "id": "17de4b06",
   "metadata": {},
   "source": [
    "27. Prime Number Checker: Write a Python program using a while loop to check if a given number N is prime or not."
   ]
  },
  {
   "cell_type": "code",
   "execution_count": 37,
   "metadata": {},
   "outputs": [
    {
     "name": "stdout",
     "output_type": "stream",
     "text": [
      "19 is a prime number\n"
     ]
    }
   ],
   "source": [
    "import math\n",
    "num = int(input('Enter the number = '))\n",
    "i = 2\n",
    "n = 0\n",
    "\n",
    "if num < 2:\n",
    "        print ('{} is not a Prime number'.format(num)) \n",
    "else:\n",
    "    while i<num:\n",
    "        if num %i==0:\n",
    "            n = 1\n",
    "            break\n",
    "        i = i+1\n",
    "    if n==0 :\n",
    "            print('{} is a prime number'.format(num))\n",
    "    elif n==1:\n",
    "            print ('{} is not a prime number'.format(num))\n",
    "        "
   ]
  },
  {
   "cell_type": "markdown",
   "metadata": {},
   "source": [
    "28. List Manipulation: Given a list of integers, write a Python program using a for loop to find the sum, average, maximum, and minimum values in the list."
   ]
  },
  {
   "cell_type": "code",
   "execution_count": 76,
   "metadata": {},
   "outputs": [
    {
     "name": "stdout",
     "output_type": "stream",
     "text": [
      "SUm of the list is = 27\n",
      "Average of the list is = 4.5\n",
      "Maimum number of the list is = 7\n",
      "Minimum value of the list is = 2\n"
     ]
    }
   ],
   "source": [
    "c = [3,5,6,2,4,7]\n",
    "lenOfList = len(c)\n",
    "sum = 0\n",
    "max_value = 0\n",
    "fst_value = 0\n",
    "snd_Value = 0\n",
    "min_value = 0\n",
    "for i in range (0, lenOfList):\n",
    "    sum = sum +c[i]\n",
    "    if c[i]>max_value:\n",
    "        max_value = c[i]\n",
    "    \n",
    "    fst = c[i]\n",
    "   \n",
    "    if fst < snd:\n",
    "        min_value = fst\n",
    "    \n",
    "    snd = c[i]\n",
    "     \n",
    "     \n",
    "\n",
    "average = sum/lenOfList\n",
    "\n",
    "print('SUm of the list is = {}'.format(sum))\n",
    "print('Average of the list is = {}'.format(average))\n",
    "print('Maimum number of the list is = {}'.format(max_value))\n",
    "print('Minimum value of the list is = {}'.format(min_value))\n"
   ]
  },
  {
   "cell_type": "markdown",
   "metadata": {},
   "source": [
    "29. Reverse String: Write a Python program using a while loop to reverse a given string."
   ]
  },
  {
   "cell_type": "code",
   "execution_count": null,
   "metadata": {},
   "outputs": [],
   "source": [
    "def reverse_string(str):  \n",
    "    str1 = \"\"   \n",
    "    for i in str:  \n",
    "        str1 = i + str1  \n",
    "    return str1     \n",
    "     \n",
    "str = \"JavaTpoint\"          \n",
    "print(\"The original string is: \",str)  \n",
    "print(\"The reverse string is\",reverse_string(str)) "
   ]
  },
  {
   "cell_type": "code",
   "execution_count": 79,
   "metadata": {},
   "outputs": [
    {
     "name": "stdout",
     "output_type": "stream",
     "text": [
      "dlroW olleH\n"
     ]
    }
   ],
   "source": [
    "inp = str(input('Enter the value'))\n",
    "\n",
    "str1 = \"\"\n",
    "\n",
    "for i in inp:  \n",
    "        str1 = i + str1  \n",
    "print(str1)"
   ]
  },
  {
   "cell_type": "markdown",
   "metadata": {},
   "source": [
    "Nested Loops:"
   ]
  },
  {
   "cell_type": "markdown",
   "metadata": {},
   "source": [
    "30. Multiplication Table: Write a Python program using nested loops to print the multiplication table from 1 to 10."
   ]
  },
  {
   "cell_type": "code",
   "execution_count": 90,
   "metadata": {},
   "outputs": [
    {
     "name": "stdout",
     "output_type": "stream",
     "text": [
      "table number 1\n",
      "1 X 1 = 1\n",
      "1 X 2 = 2\n",
      "1 X 3 = 3\n",
      "1 X 4 = 4\n",
      "1 X 5 = 5\n",
      "1 X 6 = 6\n",
      "1 X 7 = 7\n",
      "1 X 8 = 8\n",
      "1 X 9 = 9\n",
      "1 X 10 = 10\n",
      "table number 2\n",
      "2 X 1 = 2\n",
      "2 X 2 = 4\n",
      "2 X 3 = 6\n",
      "2 X 4 = 8\n",
      "2 X 5 = 10\n",
      "2 X 6 = 12\n",
      "2 X 7 = 14\n",
      "2 X 8 = 16\n",
      "2 X 9 = 18\n",
      "2 X 10 = 20\n",
      "table number 3\n",
      "3 X 1 = 3\n",
      "3 X 2 = 6\n",
      "3 X 3 = 9\n",
      "3 X 4 = 12\n",
      "3 X 5 = 15\n",
      "3 X 6 = 18\n",
      "3 X 7 = 21\n",
      "3 X 8 = 24\n",
      "3 X 9 = 27\n",
      "3 X 10 = 30\n",
      "table number 4\n",
      "4 X 1 = 4\n",
      "4 X 2 = 8\n",
      "4 X 3 = 12\n",
      "4 X 4 = 16\n",
      "4 X 5 = 20\n",
      "4 X 6 = 24\n",
      "4 X 7 = 28\n",
      "4 X 8 = 32\n",
      "4 X 9 = 36\n",
      "4 X 10 = 40\n",
      "table number 5\n",
      "5 X 1 = 5\n",
      "5 X 2 = 10\n",
      "5 X 3 = 15\n",
      "5 X 4 = 20\n",
      "5 X 5 = 25\n",
      "5 X 6 = 30\n",
      "5 X 7 = 35\n",
      "5 X 8 = 40\n",
      "5 X 9 = 45\n",
      "5 X 10 = 50\n",
      "table number 6\n",
      "6 X 1 = 6\n",
      "6 X 2 = 12\n",
      "6 X 3 = 18\n",
      "6 X 4 = 24\n",
      "6 X 5 = 30\n",
      "6 X 6 = 36\n",
      "6 X 7 = 42\n",
      "6 X 8 = 48\n",
      "6 X 9 = 54\n",
      "6 X 10 = 60\n",
      "table number 7\n",
      "7 X 1 = 7\n",
      "7 X 2 = 14\n",
      "7 X 3 = 21\n",
      "7 X 4 = 28\n",
      "7 X 5 = 35\n",
      "7 X 6 = 42\n",
      "7 X 7 = 49\n",
      "7 X 8 = 56\n",
      "7 X 9 = 63\n",
      "7 X 10 = 70\n",
      "table number 8\n",
      "8 X 1 = 8\n",
      "8 X 2 = 16\n",
      "8 X 3 = 24\n",
      "8 X 4 = 32\n",
      "8 X 5 = 40\n",
      "8 X 6 = 48\n",
      "8 X 7 = 56\n",
      "8 X 8 = 64\n",
      "8 X 9 = 72\n",
      "8 X 10 = 80\n",
      "table number 9\n",
      "9 X 1 = 9\n",
      "9 X 2 = 18\n",
      "9 X 3 = 27\n",
      "9 X 4 = 36\n",
      "9 X 5 = 45\n",
      "9 X 6 = 54\n",
      "9 X 7 = 63\n",
      "9 X 8 = 72\n",
      "9 X 9 = 81\n",
      "9 X 10 = 90\n",
      "table number 10\n",
      "10 X 1 = 10\n",
      "10 X 2 = 20\n",
      "10 X 3 = 30\n",
      "10 X 4 = 40\n",
      "10 X 5 = 50\n",
      "10 X 6 = 60\n",
      "10 X 7 = 70\n",
      "10 X 8 = 80\n",
      "10 X 9 = 90\n",
      "10 X 10 = 100\n"
     ]
    }
   ],
   "source": [
    "for i in range (1,11):\n",
    "  print ('table number {}'.format(i))\n",
    "  for j in range (1,11):\n",
    "      m = i*j\n",
    "      print('{} X {} = {}'.format(i,j,m))\n",
    "  \n",
    "\n"
   ]
  },
  {
   "cell_type": "markdown",
   "metadata": {},
   "source": [
    "31. Print Patterns: Write a Python program using nested loops to print the following pattern:"
   ]
  },
  {
   "cell_type": "code",
   "execution_count": 97,
   "metadata": {},
   "outputs": [
    {
     "name": "stdout",
     "output_type": "stream",
     "text": [
      "* \n",
      "* * \n",
      "* * * \n",
      "* * * * \n",
      "* * * * * \n"
     ]
    }
   ],
   "source": [
    "n= int (input ('Enter Number = '))\n",
    "\n",
    "for i in range(0, n):\n",
    "        for j in range(0, i+1):\n",
    "         \n",
    "            print(\"* \",end=\"\")\n",
    "      \n",
    "        \n",
    "        print(\"\\r\")"
   ]
  },
  {
   "cell_type": "markdown",
   "metadata": {},
   "source": [
    "32. Matrix Multiplication: Write a Python program using nested loops to multiply two matrices."
   ]
  },
  {
   "cell_type": "code",
   "execution_count": 99,
   "metadata": {},
   "outputs": [
    {
     "name": "stdout",
     "output_type": "stream",
     "text": [
      "[114, 160, 60, 27]\n",
      "[74, 97, 73, 14]\n",
      "[119, 157, 112, 23]\n"
     ]
    }
   ],
   "source": [
    "\n",
    "X = [[12,7,3],\n",
    "    [4 ,5,6],\n",
    "    [7 ,8,9]]\n",
    "\n",
    "Y = [[5,8,1,2],\n",
    "    [6,7,3,0],\n",
    "    [4,5,9,1]]\n",
    "\n",
    "result = [[0,0,0,0],\n",
    "         [0,0,0,0],\n",
    "         [0,0,0,0]]\n",
    "\n",
    "\n",
    "for i in range(len(X)):\n",
    "  \n",
    "   for j in range(len(Y[0])):\n",
    "       \n",
    "       for k in range(len(Y)):\n",
    "           result[i][j] += X[i][k] * Y[k][j]\n",
    "\n",
    "for r in result:\n",
    "   print(r)"
   ]
  },
  {
   "cell_type": "markdown",
   "metadata": {},
   "source": [
    "33. Chessboard Pattern: Write a Python program using nested loops to print a chessboard pattern (alternating “X” and “O” characters) of size 8×8.34. Number Pyramid: Write a Python program using nested loops to print a number pyramid like the following: 1 22 333 4444 55555"
   ]
  },
  {
   "cell_type": "code",
   "execution_count": 117,
   "metadata": {},
   "outputs": [
    {
     "name": "stdout",
     "output_type": "stream",
     "text": [
      "X0X0X0X0\n",
      "X0X0X0X0\n",
      "X0X0X0X0\n",
      "X0X0X0X0\n",
      "X0X0X0X0\n",
      "X0X0X0X0\n",
      "X0X0X0X0\n",
      "X0X0X0X0\n"
     ]
    }
   ],
   "source": [
    "\n",
    "\n",
    "for i in range(0,8):\n",
    "        for j in range(0,4):\n",
    "         \n",
    "            print('X' '0',end=\"\")\n",
    "      \n",
    "        \n",
    "        print(\"\\r\")"
   ]
  },
  {
   "cell_type": "code",
   "execution_count": 118,
   "metadata": {},
   "outputs": [
    {
     "name": "stdout",
     "output_type": "stream",
     "text": [
      "1\n",
      "22\n",
      "333\n",
      "4444\n",
      "55555\n"
     ]
    }
   ],
   "source": [
    "for i in range(1,6):\n",
    "    for j in range(1,i+1):\n",
    "        print(i,end='')\n",
    "    print()"
   ]
  },
  {
   "cell_type": "markdown",
   "metadata": {},
   "source": [
    "List Problems:"
   ]
  },
  {
   "cell_type": "markdown",
   "metadata": {},
   "source": [
    "34. List Sum: Write a Python program to find the sum of all elements in a given list of integers."
   ]
  },
  {
   "cell_type": "code",
   "execution_count": 121,
   "metadata": {},
   "outputs": [
    {
     "name": "stdout",
     "output_type": "stream",
     "text": [
      "SUm of the list is = 248\n"
     ]
    }
   ],
   "source": [
    "c = [12,30,75,9,42,80]\n",
    "lenOfList = len(c)\n",
    "sum = 0\n",
    "\n",
    "for i in range (0, lenOfList):\n",
    "    sum = sum +c[i]\n",
    "    \n",
    "    \n",
    "    \n",
    "\n",
    "print('SUm of the list is = {}'.format(sum))\n"
   ]
  },
  {
   "cell_type": "markdown",
   "metadata": {},
   "source": [
    "35. List Average: Write a Python program to calculate the average of all elements in a given list of integers."
   ]
  },
  {
   "cell_type": "code",
   "execution_count": 124,
   "metadata": {},
   "outputs": [
    {
     "name": "stdout",
     "output_type": "stream",
     "text": [
      "Average of the list is = 41.333333333333336\n"
     ]
    }
   ],
   "source": [
    "c = [12,30,75,9,42,80]\n",
    "lenOfList = len(c)\n",
    "sum = 0\n",
    "\n",
    "for i in range (0, lenOfList):\n",
    "    sum = sum +c[i]\n",
    "\n",
    "\n",
    "average = sum/lenOfList\n",
    "\n",
    "\n",
    "print('Average of the list is = {}'.format(average))\n"
   ]
  },
  {
   "cell_type": "markdown",
   "metadata": {},
   "source": [
    "36. List Max and Min: Write a Python program to find the maximum and minimum values in a given list of integers."
   ]
  },
  {
   "cell_type": "code",
   "execution_count": 127,
   "metadata": {},
   "outputs": [
    {
     "name": "stdout",
     "output_type": "stream",
     "text": [
      "Maimum number of the list is = 80\n",
      "Minimum value of the list is = 9\n"
     ]
    }
   ],
   "source": [
    "c = [12,30,75,9,42,80]\n",
    "lenOfList = len(c)\n",
    "\n",
    "max_value = 0\n",
    "fst_value = 0\n",
    "snd_Value = 0\n",
    "min_value = 0\n",
    "for i in range (0, lenOfList):\n",
    "   \n",
    "    if c[i]>max_value:\n",
    "        max_value = c[i]\n",
    "    \n",
    "    fst = c[i]\n",
    "   \n",
    "    if fst < snd:\n",
    "        min_value = fst\n",
    "    \n",
    "    snd = c[i]\n",
    "     \n",
    "print('Maimum number of the list is = {}'.format(max_value))\n",
    "print('Minimum value of the list is = {}'.format(min_value))"
   ]
  },
  {
   "cell_type": "markdown",
   "metadata": {},
   "source": [
    "37. List Sorting: Write a Python program to sort a list of integers in ascending order."
   ]
  },
  {
   "cell_type": "code",
   "execution_count": 131,
   "metadata": {},
   "outputs": [
    {
     "name": "stdout",
     "output_type": "stream",
     "text": [
      "list Before short [12, 30, 75, 9, 42, 80] \n",
      "list After short in ascending order. [9, 12, 30, 42, 75, 80] \n"
     ]
    }
   ],
   "source": [
    "c = [12,30,75,9,42,80]\n",
    "print('list Before short {} '.format(c))\n",
    "lenOfList = len(c)\n",
    "i=1\n",
    "while i<lenOfList:\n",
    "    j=0\n",
    "    while lenOfList-i>j:\n",
    "        if c[j]>c[j+1]:\n",
    "            temp = c[j]\n",
    "            c[j]=c[j+1]\n",
    "            c[j+1]= temp\n",
    "        j+=1\n",
    "    i+=1\n",
    "print('list After short in ascending order. {} '.format(c))"
   ]
  },
  {
   "cell_type": "markdown",
   "metadata": {},
   "source": [
    "38. List Filtering: Given a list of integers, write a Python program to create a new list that contains only the even numbers from the original list."
   ]
  },
  {
   "cell_type": "code",
   "execution_count": 134,
   "metadata": {},
   "outputs": [
    {
     "name": "stdout",
     "output_type": "stream",
     "text": [
      "Even Numbers are = [12, 30, 42, 80]\n"
     ]
    }
   ],
   "source": [
    "c = [12,30,75,9,42,80]\n",
    "lenOfList = len(c)\n",
    "even =[]\n",
    "for i in range (0,lenOfList):\n",
    "    if c[i]%2==0:\n",
    "        even.append(c[i])\n",
    "\n",
    "print ('Even Numbers are = {}'.format(even))\n",
    "\n"
   ]
  },
  {
   "cell_type": "markdown",
   "metadata": {},
   "source": [
    "39. List Reversal: Write a Python program to reverse a given list without using any built-in functions."
   ]
  },
  {
   "cell_type": "code",
   "execution_count": 154,
   "metadata": {},
   "outputs": [
    {
     "name": "stdout",
     "output_type": "stream",
     "text": [
      "List before reverse [12, 30, 75, 9, 42, 80]\n",
      "List after reverse [80, 42, 9, 75, 30, 12]\n"
     ]
    }
   ],
   "source": [
    "c = [12,30,75,9,42,80]\n",
    "lenOfList = len(c)\n",
    "rev = []\n",
    "print('List before reverse {}'.format(c))\n",
    "\n",
    "for i in range (lenOfList - 1, -1, -1):  \n",
    "        rev.append(c[i])\n",
    "\n",
    "print('List after reverse {}'.format(rev))\n",
    "\n",
    "\n",
    "        \n"
   ]
  },
  {
   "cell_type": "markdown",
   "metadata": {},
   "source": [
    "40. List Manipulation: Given two lists of integers, write a Python program to create a new list that contains elements common to both lists."
   ]
  },
  {
   "cell_type": "code",
   "execution_count": 156,
   "metadata": {},
   "outputs": [
    {
     "name": "stdout",
     "output_type": "stream",
     "text": [
      "First List [12, 30, 75, 9, 42, 80]\n",
      "Secound List [12, 40, 75, 8, 52, 80]\n",
      "Common in Lists:  [12, 75, 80]\n"
     ]
    }
   ],
   "source": [
    "first_list = [12,30,75,9,42,80]\n",
    "secound_list = [12,40,75,8,52,80]\n",
    "print('First List {}'.format(first_list))\n",
    "print('Secound List {}'.format(secound_list))\n",
    "common_list = []\n",
    "i=0\n",
    "while i<len(first_list):\n",
    "    if first_list[i]==secound_list[i]:\n",
    "        common_list.append(first_list[i])\n",
    "    i+=1\n",
    "print('Common in Lists: ',common_list)"
   ]
  },
  {
   "cell_type": "markdown",
   "metadata": {},
   "source": [
    "41. List Element Count: Write a Python program to count the occurrences of a specific element in a given list."
   ]
  },
  {
   "cell_type": "code",
   "execution_count": 160,
   "metadata": {},
   "outputs": [
    {
     "name": "stdout",
     "output_type": "stream",
     "text": [
      "Given List [12, 3, 12, 9, 42, 80, 3, 3, 9]\n",
      "New List [12, 3, 9, 42, 80]\n",
      "Count List [2, 3, 2, 1, 1]\n"
     ]
    }
   ],
   "source": [
    "c = [12,3,12,9,42,80,3,3,9]\n",
    "print('Given List {}'.format(c))\n",
    "lenOfList = len(c)\n",
    "new_number_list = []\n",
    "count_number_list = []\n",
    "i=0\n",
    "while i<lenOfList:\n",
    "    j=i+1\n",
    "    count_number = 1\n",
    "    if c[i]!=0:\n",
    "        new_number_list.append(c[i])\n",
    "        while j<lenOfList:   \n",
    "            if c[i]==c[j]:\n",
    "                c[j]=0\n",
    "                count_number+=1\n",
    "            j+=1  \n",
    "        c[i]=0\n",
    "        count_number_list.append(count_number)\n",
    "    i+=1\n",
    "print('New List {}'.format(new_number_list))\n",
    "print('Count List {}'.format(count_number_list))"
   ]
  },
  {
   "cell_type": "markdown",
   "metadata": {},
   "source": [
    "42. List Duplicates Removal: Write a Python program to remove duplicates from a given list while preserving the order of the elements."
   ]
  },
  {
   "cell_type": "code",
   "execution_count": 161,
   "metadata": {},
   "outputs": [
    {
     "name": "stdout",
     "output_type": "stream",
     "text": [
      "List [12, 3, 12, 9, 42, 80, 3, 3, 9]\n",
      "New List(remove duplicate) [12, 3, 9, 42, 80, 9]\n"
     ]
    }
   ],
   "source": [
    "number_list = [12,3,12,9,42,80,3,3,9]\n",
    "print('List {}'.format(number_list))\n",
    "count_val = len(number_list)\n",
    "new_number_list = []\n",
    "i=0\n",
    "while i<count_val:\n",
    "    j=i+1\n",
    "    count_number = 1\n",
    "    if number_list[i]!=0:\n",
    "        new_number_list.append(number_list[i])\n",
    "        while j<count_val-1:   \n",
    "            if number_list[i]==number_list[j]:\n",
    "                number_list[j]=0\n",
    "            j+=1  \n",
    "        number_list[i]=0\n",
    "    i+=1\n",
    "print('New List(remove duplicate) {}'.format(new_number_list))"
   ]
  },
  {
   "cell_type": "markdown",
   "metadata": {},
   "source": [
    "43. List Comprehension: Given a list of integers, write a Python program to create a new list that contains the squares of the elements using list comprehension."
   ]
  },
  {
   "cell_type": "code",
   "execution_count": 165,
   "metadata": {},
   "outputs": [
    {
     "name": "stdout",
     "output_type": "stream",
     "text": [
      "List [2, 7, 3, 9, 6, 1, 5]\n",
      "New List [4, 49, 9, 81, 36, 1, 25]\n"
     ]
    }
   ],
   "source": [
    "c = [2,7,3,9,6,1,5]\n",
    "print('List {}'.format(c))\n",
    "new_list = [i**2 for i in c]\n",
    "print('New List {}'.format(new_list))"
   ]
  },
  {
   "cell_type": "markdown",
   "metadata": {},
   "source": [
    "Nested List Problems:"
   ]
  },
  {
   "cell_type": "markdown",
   "metadata": {},
   "source": [
    "44. Matrix Addition: Write a Python program to add two matrices represented as nested lists."
   ]
  },
  {
   "cell_type": "code",
   "execution_count": 170,
   "metadata": {},
   "outputs": [
    {
     "name": "stdout",
     "output_type": "stream",
     "text": [
      "List A\n",
      "1 1 1 \n",
      "2 2 2 \n",
      "3 3 3 \n",
      "List B\n",
      "1 1 1 \n",
      "2 2 2 \n",
      "3 3 3 \n",
      "List A and B\n",
      "2 2 2 \n",
      "4 4 4 \n",
      "6 6 6 \n"
     ]
    }
   ],
   "source": [
    "A = [[1,1,1],[2,2,2],[3,3,3]]\n",
    "B = [[1,1,1],[2,2,2],[3,3,3]]\n",
    "C = [[0,0,0],[0,0,0],[0,0,0]]\n",
    "\n",
    "print('List A') \n",
    "for i in range(0,3):\n",
    "    for j in range(0,3):\n",
    "        print(A[i][j],end=' ')\n",
    "    print()\n",
    "print('List B') \n",
    "for i in range(0,3):\n",
    "    for j in range(0,3):\n",
    "        print(B[i][j],end=' ')\n",
    "    print()\n",
    "print('List A and B') \n",
    "i=0\n",
    "while i<3:  \n",
    "    j=0\n",
    "    while j<3:\n",
    "        C[i][j]=A[i][j]+B[i][j]\n",
    "        j+=1\n",
    "    i+=1\n",
    "for i in range(0,3):\n",
    "    for j in range(0,3):\n",
    "        print(C[i][j],end=' ')\n",
    "    print()"
   ]
  },
  {
   "cell_type": "markdown",
   "metadata": {},
   "source": [
    "45. Flatten Nested List: Write a Python program to flatten a given nested list and convert it into a single-dimensional list."
   ]
  },
  {
   "cell_type": "code",
   "execution_count": 171,
   "metadata": {},
   "outputs": [
    {
     "name": "stdout",
     "output_type": "stream",
     "text": [
      "List:  [1, [2, 3], [4, 5, 6], 7, [8, 9, 10]]\n",
      "New List:  [1, 2, 3, 4, 5, 6, 7, 8, 9, 10]\n"
     ]
    }
   ],
   "source": [
    "number_list = [1, [2, 3], [4, 5, 6], 7, [8, 9, 10]]\n",
    "print('List: ',number_list)\n",
    "new_number_list = []\n",
    "for i in number_list:\n",
    "    if type(i).__name__=='list':\n",
    "        new_number_list.extend(i)\n",
    "    else:\n",
    "        new_number_list.append(i)\n",
    "print('New List: ',new_number_list)"
   ]
  },
  {
   "cell_type": "markdown",
   "metadata": {},
   "source": [
    "46. List Element Frequency: Given a nested list containing lists of integers, write a Python program to count the frequency of each element in the entire nested list."
   ]
  },
  {
   "cell_type": "code",
   "execution_count": 172,
   "metadata": {},
   "outputs": [
    {
     "name": "stdout",
     "output_type": "stream",
     "text": [
      "List:  [1, [2, 3], [4, 1, 5], 2, [3, 6, 4, 2]]\n",
      "New List(single):  [1, 2, 3, 4, 1, 5, 2, 3, 6, 4, 2]\n",
      "New List(unique):  [1, 2, 3, 4, 5, 6]\n",
      "Count List:  [2, 3, 2, 2, 1, 1]\n"
     ]
    }
   ],
   "source": [
    "number_list = [1, [2, 3], [4, 1, 5], 2, [3, 6, 4, 2]]\n",
    "print('List: ',number_list)\n",
    "new_number_list = []\n",
    "for i in number_list:\n",
    "    if type(i).__name__=='list':\n",
    "        new_number_list.extend(i)\n",
    "    else:\n",
    "        new_number_list.append(i)\n",
    "print('New List(single): ',new_number_list)\n",
    "\n",
    "count_val = len(new_number_list)\n",
    "unique_number_list = []\n",
    "count_number_list = []\n",
    "i=0\n",
    "while i<count_val:\n",
    "    j=i+1\n",
    "    count_number = 1\n",
    "    if new_number_list[i]!=0:\n",
    "        unique_number_list.append(new_number_list[i])\n",
    "        while j<count_val:   \n",
    "            if new_number_list[i]==new_number_list[j]:\n",
    "                new_number_list[j]=0\n",
    "                count_number+=1\n",
    "            j+=1  \n",
    "        new_number_list[i]=0\n",
    "        count_number_list.append(count_number)\n",
    "    i+=1\n",
    "print('New List(unique): ',unique_number_list)\n",
    "print('Count List: ',count_number_list)"
   ]
  },
  {
   "cell_type": "markdown",
   "metadata": {},
   "source": [
    "47. Transpose Matrix: Write a Python program to transpose a given matrix represented as a nested list."
   ]
  },
  {
   "cell_type": "code",
   "execution_count": 173,
   "metadata": {},
   "outputs": [
    {
     "name": "stdout",
     "output_type": "stream",
     "text": [
      "List A\n",
      "1 1 1 \n",
      "2 2 2 \n",
      "3 3 3 \n",
      "Transpose A\n",
      "1 2 3 \n",
      "1 2 3 \n",
      "1 2 3 \n"
     ]
    }
   ],
   "source": [
    "A = [[1,1,1],[2,2,2],[3,3,3]]\n",
    "B = [[0,0,0],[0,0,0],[0,0,0]]\n",
    "print('List A') \n",
    "for i in range(0,3):\n",
    "    for j in range(0,3):\n",
    "        print(A[i][j],end=' ')\n",
    "    print()\n",
    "print('Transpose A') \n",
    "i=0\n",
    "while i<3:  \n",
    "    j=0\n",
    "    while j<3:\n",
    "        B[j][i]=A[i][j]\n",
    "        j+=1\n",
    "    i+=1\n",
    "for i in range(0,3):\n",
    "    for j in range(0,3):\n",
    "        print(B[i][j],end=' ')\n",
    "    print()"
   ]
  },
  {
   "cell_type": "markdown",
   "metadata": {},
   "source": [
    "48. List of Lists Concatenation: Given a list of nested lists, write a Python program to concatenate all the sublists into a single flat list."
   ]
  },
  {
   "cell_type": "code",
   "execution_count": 174,
   "metadata": {},
   "outputs": [
    {
     "name": "stdout",
     "output_type": "stream",
     "text": [
      "List:  [1, [2, 3], [4, 5, 6], 7, [8, 9, 10]]\n",
      "New List:  [1, 2, 3, 4, 5, 6, 7, 8, 9, 10]\n"
     ]
    }
   ],
   "source": [
    "number_list = [1, [2, 3], [4, 5, 6], 7, [8, 9, 10]]\n",
    "print('List: ',number_list)\n",
    "new_number_list = []\n",
    "for i in number_list:\n",
    "    if type(i).__name__=='list':\n",
    "        new_number_list.extend(i)\n",
    "    else:\n",
    "        new_number_list.append(i)\n",
    "print('New List: ',new_number_list)"
   ]
  },
  {
   "cell_type": "markdown",
   "metadata": {},
   "source": [
    "Tuple Problems:"
   ]
  },
  {
   "cell_type": "markdown",
   "metadata": {},
   "source": [
    "49. Tuple Concatenation: Write a Python program to concatenate two tuples and create a new tuple."
   ]
  },
  {
   "cell_type": "code",
   "execution_count": 175,
   "metadata": {},
   "outputs": [
    {
     "name": "stdout",
     "output_type": "stream",
     "text": [
      "(1, 2, 3)\n",
      "(4, 5, 6)\n",
      "(1, 2, 3, 4, 5, 6)\n"
     ]
    }
   ],
   "source": [
    "t1 = (1,2,3)\n",
    "print(t1)\n",
    "t2 = (4,5,6)\n",
    "print(t2)\n",
    "t3=t1+t2\n",
    "print(t3)"
   ]
  },
  {
   "cell_type": "markdown",
   "metadata": {},
   "source": [
    "50. Tuple Unpacking: Given a tuple with three elements (x, y, z), write a Python program to unpack the tuple and assign the values to three variables."
   ]
  },
  {
   "cell_type": "code",
   "execution_count": 176,
   "metadata": {},
   "outputs": [
    {
     "name": "stdout",
     "output_type": "stream",
     "text": [
      "1  2  3\n"
     ]
    }
   ],
   "source": [
    "t1 = (1,2,3)\n",
    "x=t1[0]\n",
    "y=t1[1]\n",
    "z=t1[2]\n",
    "print(x,'',y,'',z)"
   ]
  },
  {
   "cell_type": "markdown",
   "metadata": {},
   "source": [
    "51. Tuple Sorting: Write a Python program to sort a tuple of integers in ascending order."
   ]
  },
  {
   "cell_type": "code",
   "execution_count": 177,
   "metadata": {},
   "outputs": [
    {
     "name": "stdout",
     "output_type": "stream",
     "text": [
      "Tuple : (5, 2, 24, 3, 1, 6, 7)\n",
      "Sorted Tuple : (1, 2, 3, 5, 6, 7, 24)\n"
     ]
    }
   ],
   "source": [
    "t1 = (5, 2, 24, 3, 1, 6, 7)  \n",
    "t2 = tuple(sorted(t1))  \n",
    "print('Tuple :', t1)  \n",
    "print('Sorted Tuple :', t2)"
   ]
  },
  {
   "cell_type": "markdown",
   "metadata": {},
   "source": [
    "52. Tuple Frequency Count: Given a tuple containing various elements, write a Python program to count the frequency of a specific element in the tuple."
   ]
  },
  {
   "cell_type": "code",
   "execution_count": 178,
   "metadata": {},
   "outputs": [
    {
     "name": "stdout",
     "output_type": "stream",
     "text": [
      "2 is 2 times\n"
     ]
    }
   ],
   "source": [
    "t1 = (5, 3, 2, 3, 1, 2, 3)\n",
    "count_val = 0\n",
    "specific_val = 2\n",
    "for i in t1:\n",
    "    if i==specific_val:\n",
    "        count_val+=1\n",
    "print(specific_val,'is',count_val,'times')"
   ]
  },
  {
   "cell_type": "markdown",
   "metadata": {},
   "source": [
    "53. Tuple to List: Write a Python program to convert a tuple into a list."
   ]
  },
  {
   "cell_type": "code",
   "execution_count": 179,
   "metadata": {},
   "outputs": [
    {
     "name": "stdout",
     "output_type": "stream",
     "text": [
      "(5, 2, 24, 3, 1, 6, 7)\n",
      "<class 'tuple'>\n",
      "[5, 2, 24, 3, 1, 6, 7]\n",
      "<class 'list'>\n"
     ]
    }
   ],
   "source": [
    "t1 = (5, 2, 24, 3, 1, 6, 7)  \n",
    "print(t1)\n",
    "print(type(t1))\n",
    "li=list(t1)\n",
    "print(li)\n",
    "print(type(li))"
   ]
  },
  {
   "cell_type": "markdown",
   "metadata": {},
   "source": [
    "54. Tuple Reversal: Write a Python program to reverse a tuple without using any built-in functions."
   ]
  },
  {
   "cell_type": "code",
   "execution_count": 192,
   "metadata": {},
   "outputs": [
    {
     "name": "stdout",
     "output_type": "stream",
     "text": [
      "Tuple after reversed (5, 2, 24, 3, 1, 6, 7)\n",
      "Tuple after reversed (7, 6, 1, 3, 24, 2, 5)\n"
     ]
    }
   ],
   "source": [
    "c = (5, 2, 24, 3, 1, 6, 7) \n",
    "new = []\n",
    "print ('Tuple after reversed {}'.format(c))\n",
    "\n",
    "for i in range (len(t1)-1,-1,-1):\n",
    "    new.append(c[i])\n",
    "    \n",
    "t2 = tuple(new)\n",
    "print ('Tuple after reversed {}'.format(t2))"
   ]
  },
  {
   "cell_type": "markdown",
   "metadata": {},
   "source": [
    "55. Tuple Slicing: Given a tuple, write a Python program to extract a slice of elements from it."
   ]
  },
  {
   "cell_type": "code",
   "execution_count": 193,
   "metadata": {},
   "outputs": [
    {
     "name": "stdout",
     "output_type": "stream",
     "text": [
      "(5, 2, 24, 3, 1, 6, 7)\n",
      "(5, 2)\n",
      "(24, 3, 1)\n",
      "(6, 7)\n"
     ]
    }
   ],
   "source": [
    "t1 = (5, 2, 24, 3, 1, 6, 7)  \n",
    "print(t1)\n",
    "s1 = t1[0:2]\n",
    "s2 = t1[2:5]\n",
    "s3 = t1[-2:]\n",
    "print(s1)\n",
    "print(s2)\n",
    "print(s3)"
   ]
  },
  {
   "cell_type": "markdown",
   "metadata": {},
   "source": [
    "56. Tuple Operations: Given two tuples of integers, write a Python program to perform element-wise addition, subtraction, and multiplication and create new tuples for each operation."
   ]
  },
  {
   "cell_type": "code",
   "execution_count": 3,
   "metadata": {},
   "outputs": [
    {
     "name": "stdout",
     "output_type": "stream",
     "text": [
      "(5, 10, 23)\n",
      "(4, 5, 6)\n",
      "Addition (9, 15, 29)\n",
      "Subtraction (1, 5, 17)\n",
      "multiplication (20, 50, 138)\n"
     ]
    }
   ],
   "source": [
    "t1 = (5,10,23)\n",
    "print(t1)\n",
    "t2 = (4,5,6)\n",
    "print(t2)\n",
    "addition = []\n",
    "subtraction = []\n",
    "multiplication = []\n",
    "for i in range(0,len(t1)):\n",
    "    addition.append(t1[i]+t2[i])\n",
    "    subtraction.append(t1[i]-t2[i])\n",
    "    multiplication.append(t1[i]*t2[i])\n",
    "print('Addition',tuple(addition))\n",
    "print('Subtraction',tuple(subtraction))\n",
    "print('multiplication',tuple(multiplication))"
   ]
  },
  {
   "cell_type": "markdown",
   "metadata": {},
   "source": [
    "57. Tuple Membership Test: Write a Python program that takes an element as input and checks if it exists in a given tuple."
   ]
  },
  {
   "cell_type": "code",
   "execution_count": 8,
   "metadata": {},
   "outputs": [
    {
     "name": "stdout",
     "output_type": "stream",
     "text": [
      "(5, 2, 24, 3, 1, 6, 7)\n",
      "5 is exist\n"
     ]
    }
   ],
   "source": [
    "t1 = (5, 2, 24, 3, 1, 6, 7)  \n",
    "print(t1)\n",
    "value = int(input('Enter a Number '))\n",
    "is_exist = False\n",
    "for i in t1:\n",
    "    if i==value:\n",
    "        is_exist = True\n",
    "        break\n",
    "if is_exist:\n",
    "    print('{} is exist'.format(value))\n",
    "else:\n",
    "    print('{} is not exist'.format(value))"
   ]
  },
  {
   "cell_type": "markdown",
   "metadata": {},
   "source": [
    "58. Tuple Packing: Write a Python program to pack three variables into a single tuple and print the tuple."
   ]
  },
  {
   "cell_type": "code",
   "execution_count": 9,
   "metadata": {},
   "outputs": [
    {
     "name": "stdout",
     "output_type": "stream",
     "text": [
      "Tuple is (4, 5, 6)\n"
     ]
    }
   ],
   "source": [
    "x=int (input('Enter Number x ='))\n",
    "y=int (input('Enter Number y ='))\n",
    "z=int (input('Enter Number z ='))\n",
    "t1 = (x,y,z)\n",
    "print('Tuple is {}'.format(t1))"
   ]
  },
  {
   "cell_type": "markdown",
   "metadata": {},
   "source": [
    "Nested List Problems:"
   ]
  },
  {
   "cell_type": "markdown",
   "metadata": {},
   "source": [
    "59. Nested List Element Access: Given a nested list, write a Python program to access and print specific elements from it."
   ]
  },
  {
   "cell_type": "code",
   "execution_count": 10,
   "metadata": {},
   "outputs": [
    {
     "name": "stdout",
     "output_type": "stream",
     "text": [
      "List:  [1, [2, 3], [4, 5, 6], 7, [8, 9, 10]]\n",
      "Value 1:  1\n",
      "Value 3:  3\n",
      "Value 5:  5\n",
      "Value 10:  10\n"
     ]
    }
   ],
   "source": [
    "number_list = [1, [2, 3], [4, 5, 6], 7, [8, 9, 10]]\n",
    "print('List: ',number_list)\n",
    "print('Value 1: ',number_list[0])\n",
    "print('Value 3: ',number_list[1][1])\n",
    "print('Value 5: ',number_list[2][1])\n",
    "print('Value 10: ',number_list[4][2])"
   ]
  },
  {
   "cell_type": "markdown",
   "metadata": {},
   "source": [
    "60. Nested List Flattening: Write a Python program to flatten a nested list and convert it into a single-dimensional list."
   ]
  },
  {
   "cell_type": "code",
   "execution_count": 12,
   "metadata": {},
   "outputs": [
    {
     "name": "stdout",
     "output_type": "stream",
     "text": [
      "List:  [1, [2, 3], [4, 5, 6], 7, [8, 9, 10]]\n",
      "New List:  [1, 2, 3, 4, 5, 6, 7, 8, 9, 10]\n"
     ]
    }
   ],
   "source": [
    "given_list = [1, [2, 3], [4, 5, 6], 7, [8, 9, 10]]\n",
    "print('List: ',given_list)\n",
    "new_list = []\n",
    "for i in given_list:\n",
    "    if type(i).__name__=='list':\n",
    "        new_list.extend(i)\n",
    "    else:\n",
    "        new_list.append(i)\n",
    "print('New List: ',new_list)"
   ]
  },
  {
   "cell_type": "markdown",
   "metadata": {},
   "source": [
    "61. Nested List Sorting: Given a nested list containing lists of integers, write a Python program to sort the sublists based on their lengths."
   ]
  },
  {
   "cell_type": "code",
   "execution_count": 17,
   "metadata": {},
   "outputs": [
    {
     "name": "stdout",
     "output_type": "stream",
     "text": [
      "List:  [1, [2, 3], [6, 4, 5], 7, [10, 8, 9]]\n",
      "New List:  [1, [2, 3], [4, 5, 6], 7, [8, 9, 10]]\n"
     ]
    }
   ],
   "source": [
    "number_list = [1, [2, 3], [6, 4, 5], 7, [10, 8,9]]\n",
    "print('List: ',number_list)\n",
    "new_number_list = []\n",
    "for i in number_list:\n",
    "    if type(i).__name__=='list':\n",
    "        j = sorted(i)\n",
    "        new_number_list.append(j)\n",
    "    else:\n",
    "        new_number_list.append(i)\n",
    "print('New List: ',new_number_list)"
   ]
  },
  {
   "cell_type": "markdown",
   "metadata": {},
   "source": [
    "62. List of Tuples Conversion: Given a nested list containing tuples of (x, y) coordinates, write a Python program to convert it into a list of x-coordinates and a list of y-coordinates."
   ]
  },
  {
   "cell_type": "code",
   "execution_count": 18,
   "metadata": {},
   "outputs": [
    {
     "name": "stdout",
     "output_type": "stream",
     "text": [
      "[(1, 2), (3, 4), (5, 6), (7, 8), (9, 10)]\n",
      "list of x-coordinates:  [1, 3, 5, 7, 9]\n",
      "list of y-coordinates:  [2, 4, 6, 8, 10]\n"
     ]
    }
   ],
   "source": [
    "number_list = [(1,2), (3, 4),(5,6), (7,8),(9,10)]\n",
    "print(number_list)\n",
    "x_list = []\n",
    "y_list = []\n",
    "for i in number_list:\n",
    "    x_list.append(i[0])\n",
    "    y_list.append(i[1])\n",
    "print('list of x-coordinates: ',x_list)\n",
    "print('list of y-coordinates: ',y_list)"
   ]
  },
  {
   "cell_type": "markdown",
   "metadata": {},
   "source": [
    "63. Matrix Transpose: Write a Python program to transpose a given matrix represented as a nested list."
   ]
  },
  {
   "cell_type": "code",
   "execution_count": 19,
   "metadata": {},
   "outputs": [
    {
     "name": "stdout",
     "output_type": "stream",
     "text": [
      "----A----\n",
      "1 1 1 \n",
      "2 2 2 \n",
      "3 3 3 \n",
      "----transpose A----\n",
      "1 2 3 \n",
      "1 2 3 \n",
      "1 2 3 \n"
     ]
    }
   ],
   "source": [
    "A = [[1,1,1],[2,2,2],[3,3,3]]\n",
    "B = [[0,0,0],[0,0,0],[0,0,0]]\n",
    "print('----A----') \n",
    "for i in range(0,3):\n",
    "    for j in range(0,3):\n",
    "        print(A[i][j],end=' ')\n",
    "    print()\n",
    "print('----transpose A----') \n",
    "i=0\n",
    "while i<3:  \n",
    "    j=0\n",
    "    while j<3:\n",
    "        B[j][i]=A[i][j]\n",
    "        j+=1\n",
    "    i+=1\n",
    "for i in range(0,3):\n",
    "    for j in range(0,3):\n",
    "        print(B[i][j],end=' ')\n",
    "    print()"
   ]
  },
  {
   "cell_type": "markdown",
   "metadata": {},
   "source": [
    "64. Nested List Concatenation: Given a list of nested lists, write a Python program to concatenate all the sublists into a single flat list."
   ]
  },
  {
   "cell_type": "code",
   "execution_count": 20,
   "metadata": {},
   "outputs": [
    {
     "name": "stdout",
     "output_type": "stream",
     "text": [
      "List:  [1, [2, 3], [4, 5, 6], 7, [8, 9, 10]]\n",
      "New List:  [1, 2, 3, 4, 5, 6, 7, 8, 9, 10]\n"
     ]
    }
   ],
   "source": [
    "number_list = [1, [2, 3], [4, 5, 6], 7, [8, 9, 10]]\n",
    "print('List: ',number_list)\n",
    "new_number_list = []\n",
    "for i in number_list:\n",
    "    if type(i).__name__=='list':\n",
    "        new_number_list.extend(i)\n",
    "    else:\n",
    "        new_number_list.append(i)\n",
    "print('New List: ',new_number_list)"
   ]
  },
  {
   "cell_type": "markdown",
   "metadata": {},
   "source": [
    "65. Count Even Numbers: Write a Python program to count the number of even numbers in a nested list."
   ]
  },
  {
   "cell_type": "code",
   "execution_count": 22,
   "metadata": {},
   "outputs": [
    {
     "name": "stdout",
     "output_type": "stream",
     "text": [
      "List: [1, [2, 3], [4, 5, 6], 7, [8, 9, 10]]\n",
      "Even count: 5\n"
     ]
    }
   ],
   "source": [
    "number_list = [1, [2, 3], [4, 5, 6], 7, [8, 9, 10]]\n",
    "print('List: {}'.format(number_list))\n",
    "even_count = 0\n",
    "odd_count = 0\n",
    "for i in number_list:\n",
    "    if type(i).__name__=='list':\n",
    "        for j in i:\n",
    "            if j%2==0:\n",
    "                even_count+=1\n",
    "            else:\n",
    "                odd_count+=1\n",
    "    else:\n",
    "        if i%2==0:\n",
    "                even_count+=1\n",
    "        else:\n",
    "            odd_count+=1\n",
    "print('Even count: {}'.format(even_count))\n"
   ]
  },
  {
   "cell_type": "markdown",
   "metadata": {},
   "source": [
    "66. Maximum Element in Nested List: Write a Python program to find the maximum element in a nested list of integers."
   ]
  },
  {
   "cell_type": "code",
   "execution_count": 23,
   "metadata": {},
   "outputs": [
    {
     "name": "stdout",
     "output_type": "stream",
     "text": [
      "List:  [110, [2, 330], [4, 55, 6], 77, [8, 9, 10]]\n",
      "Max Value:  330\n"
     ]
    }
   ],
   "source": [
    "number_list = [110, [2, 330], [4, 55, 6], 77, [8, 9, 10]]\n",
    "print('List: ',number_list)\n",
    "max_val = 0\n",
    "for i in number_list:\n",
    "    if type(i).__name__=='list':\n",
    "        for j in i:\n",
    "            if max_val<j:\n",
    "                max_val=j\n",
    "    else:\n",
    "        if max_val<i:\n",
    "            max_val=i\n",
    "print('Max Value: ',max_val)"
   ]
  },
  {
   "cell_type": "markdown",
   "metadata": {},
   "source": [
    "67. Diagonal Sum of Matrix: Given a square matrix represented as a nested list, write a Python program to calculate the sum of the elements in the main diagonal."
   ]
  },
  {
   "cell_type": "code",
   "execution_count": 24,
   "metadata": {},
   "outputs": [
    {
     "name": "stdout",
     "output_type": "stream",
     "text": [
      "----A----\n",
      "1 1 1 \n",
      "2 2 2 \n",
      "3 3 3 \n",
      "Diagonal sum:  6\n"
     ]
    }
   ],
   "source": [
    "A = [[1,1,1],[2,2,2],[3,3,3]]\n",
    "diagonal_sum=0\n",
    "print('----A----') \n",
    "for i in range(0,3):\n",
    "    for j in range(0,3):\n",
    "        print(A[i][j],end=' ')\n",
    "    print()\n",
    "for i in range(0,3):\n",
    "    for j in range(0,3):\n",
    "        if i==j:\n",
    "            diagonal_sum+=A[i][j]\n",
    "print('Diagonal sum: ',diagonal_sum) "
   ]
  },
  {
   "cell_type": "markdown",
   "metadata": {},
   "source": [
    "68. Nested List Element Search: Write a Python program to search for a specific element in a nested list and return its position (row and column indices)."
   ]
  },
  {
   "cell_type": "code",
   "execution_count": 26,
   "metadata": {},
   "outputs": [
    {
     "name": "stdout",
     "output_type": "stream",
     "text": [
      "List:  [110, [2, 330], [4, 55, 6], 77, [8, 9, 10]]\n",
      "Position :  3 row, 2 column\n"
     ]
    }
   ],
   "source": [
    "number_list = [110, [2, 330], [4, 55, 6], 77, [8, 9, 10]]\n",
    "print('List: ',number_list)\n",
    "specific_element = int(input('Enter Number = '))\n",
    "max_val = 0\n",
    "r=0\n",
    "row=0\n",
    "c=0\n",
    "column=0\n",
    "for i in number_list:\n",
    "    if type(i).__name__=='list':\n",
    "        c=0\n",
    "        for j in i:\n",
    "            if specific_element==j:\n",
    "                row=r\n",
    "                column=c\n",
    "                break\n",
    "            c+=1\n",
    "    else:\n",
    "        if specific_element==i:\n",
    "            row=r\n",
    "            column=c\n",
    "            break\n",
    "    r+=1\n",
    "print('Position : ',row+1,'row,',column+1,'column')\n"
   ]
  },
  {
   "cell_type": "markdown",
   "metadata": {},
   "source": [
    "Set Problems:"
   ]
  },
  {
   "cell_type": "markdown",
   "metadata": {},
   "source": [
    "69. Duplicate Removal: Write a Python program that takes a list of elements as input and creates a new set containing only the unique elements from the list."
   ]
  },
  {
   "cell_type": "code",
   "execution_count": 27,
   "metadata": {},
   "outputs": [
    {
     "name": "stdout",
     "output_type": "stream",
     "text": [
      "List:  [1, 3, 3, 5, 7, 7, 9]\n",
      "Set:  {1, 3, 5, 7, 9}\n"
     ]
    }
   ],
   "source": [
    "number_list = [1,3,3,5,7,7,9]\n",
    "print('List: ',number_list)\n",
    "number_set = set(number_list)\n",
    "print('Set: ',number_set)"
   ]
  },
  {
   "cell_type": "markdown",
   "metadata": {},
   "source": [
    "70. Set Intersection: Given two sets A and B, write a Python program to find their intersection and print the common elements."
   ]
  },
  {
   "cell_type": "code",
   "execution_count": 28,
   "metadata": {},
   "outputs": [
    {
     "name": "stdout",
     "output_type": "stream",
     "text": [
      "Set A:  {1, 3, 5, 7, 9}\n",
      "Set B:  {2, 3, 4, 7, 8}\n",
      "Set C:  {3, 7}\n"
     ]
    }
   ],
   "source": [
    "A = {1,3,5,7,9}\n",
    "print('Set A: ',A)\n",
    "B = {2,3,4,7,8}\n",
    "print('Set B: ',B)\n",
    "C = A.intersection(B)\n",
    "print('Set C: ',C)"
   ]
  },
  {
   "cell_type": "markdown",
   "metadata": {},
   "source": [
    "71. Set Union: Given two sets A and B, write a Python program to find their union and print all the distinct elements from both sets."
   ]
  },
  {
   "cell_type": "code",
   "execution_count": 29,
   "metadata": {},
   "outputs": [
    {
     "name": "stdout",
     "output_type": "stream",
     "text": [
      "Set A:  {1, 3, 5, 7, 9}\n",
      "Set B:  {2, 3, 4, 7, 8}\n",
      "Set C:  {1, 2, 3, 4, 5, 7, 8, 9}\n"
     ]
    }
   ],
   "source": [
    "A = {1,3,5,7,9}\n",
    "print('Set A: ',A)\n",
    "B = {2,3,4,7,8}\n",
    "print('Set B: ',B)\n",
    "C = A.union(B)\n",
    "print('Set C: ',C)"
   ]
  },
  {
   "cell_type": "markdown",
   "metadata": {},
   "source": [
    "72. Set Difference: Given two sets A and B, write a Python program to find the difference between set A and set B (i.e., elements present in A but not in B) and print the result."
   ]
  },
  {
   "cell_type": "code",
   "execution_count": 32,
   "metadata": {},
   "outputs": [
    {
     "name": "stdout",
     "output_type": "stream",
     "text": [
      "Set A:  {1, 3, 5, 7, 9}\n",
      "Set B:  {2, 3, 4, 7, 8}\n",
      "Set C:  {1, 5, 9}\n"
     ]
    }
   ],
   "source": [
    "A = {1,3,5,7,9}\n",
    "print('Set A: ',A)\n",
    "B = {2,3,4,7,8}\n",
    "print('Set B: ',B)\n",
    "C = A-B\n",
    "print('Set C: ',C)"
   ]
  },
  {
   "cell_type": "markdown",
   "metadata": {},
   "source": [
    "73. Set Symmetric Difference: Given two sets A and B, write a Python program to find the symmetric difference between the two sets (i.e., elements that are present in either set A or set B, but not in both) and print the result."
   ]
  },
  {
   "cell_type": "code",
   "execution_count": 31,
   "metadata": {},
   "outputs": [
    {
     "name": "stdout",
     "output_type": "stream",
     "text": [
      "Set A:  {1, 3, 5, 7, 9}\n",
      "Set B:  {2, 3, 4, 7, 8}\n",
      "Set C:  {1, 2, 4, 5, 8, 9}\n"
     ]
    }
   ],
   "source": [
    "A = {1,3,5,7,9}\n",
    "print('Set A: ',A)\n",
    "B = {2,3,4,7,8}\n",
    "print('Set B: ',B)\n",
    "C = (A-B).union(B-A)\n",
    "print('Set C: ',C)"
   ]
  },
  {
   "cell_type": "markdown",
   "metadata": {},
   "source": [
    "74. Set Operations: Given three sets A, B, and C, write a Python program to find and print the intersection of A and B, the union of B and C, and the difference between C and A."
   ]
  },
  {
   "cell_type": "code",
   "execution_count": 33,
   "metadata": {},
   "outputs": [
    {
     "name": "stdout",
     "output_type": "stream",
     "text": [
      "Set A:  {1, 3, 5, 7, 9}\n",
      "Set B:  {2, 3, 4, 7, 8}\n",
      "Set C:  {1, 2, 6, 7, 10}\n",
      "intersection A and B:  {3, 7}\n",
      "union B and C:  {1, 2, 3, 4, 6, 7, 8, 10}\n",
      "difference C - A:  {2, 10, 6}\n"
     ]
    }
   ],
   "source": [
    "A = {1,3,5,7,9}\n",
    "print('Set A: ',A)\n",
    "B = {2,3,4,7,8}\n",
    "print('Set B: ',B)\n",
    "C = {1,2,6,7,10}\n",
    "print('Set C: ',C)\n",
    "inter_sect = A.intersection(B)\n",
    "print('intersection A and B: ',inter_sect)\n",
    "union = B.union(C)\n",
    "print('union B and C: ',union)\n",
    "diff = C-A\n",
    "print('difference C - A: ',diff)"
   ]
  },
  {
   "cell_type": "markdown",
   "metadata": {},
   "source": [
    "75. Set Subset Check: Given two sets A and B, write a Python program to check if set A is a subset of set B and print the result."
   ]
  },
  {
   "cell_type": "code",
   "execution_count": 34,
   "metadata": {},
   "outputs": [
    {
     "name": "stdout",
     "output_type": "stream",
     "text": [
      "Set A:  {1, 3, 5, 7, 9}\n",
      "Set B:  {3, 7}\n",
      "A subset of B:  False\n"
     ]
    }
   ],
   "source": [
    "A = {1,3,5,7,9}\n",
    "print('Set A: ',A)\n",
    "B = {3,7}\n",
    "print('Set B: ',B)\n",
    "print('A subset of B: ',A.issubset(B))"
   ]
  },
  {
   "cell_type": "markdown",
   "metadata": {},
   "source": [
    "76. Set Superset Check: Given two sets A and B, write a Python program to check if set A is a superset of set B and print the result."
   ]
  },
  {
   "cell_type": "code",
   "execution_count": 35,
   "metadata": {},
   "outputs": [
    {
     "name": "stdout",
     "output_type": "stream",
     "text": [
      "Set A:  {1, 3, 5, 7, 9}\n",
      "Set B:  {3, 7}\n",
      "A superset of B:  True\n"
     ]
    }
   ],
   "source": [
    "A = {1,3,5,7,9}\n",
    "print('Set A: ',A)\n",
    "B = {3,7}\n",
    "print('Set B: ',B)\n",
    "print('A superset of B: ',B.issubset(A))"
   ]
  },
  {
   "cell_type": "markdown",
   "metadata": {},
   "source": [
    "77. Set Length Check: Write a Python program that takes a set as input and prints the number of elements in the set."
   ]
  },
  {
   "cell_type": "code",
   "execution_count": 36,
   "metadata": {},
   "outputs": [
    {
     "name": "stdout",
     "output_type": "stream",
     "text": [
      "Set A:  {1, 3, 5, 7, 9}\n",
      "Element of Set A:  5\n"
     ]
    }
   ],
   "source": [
    "A = {1,3,5,7,9}\n",
    "print('Set A: ',A)\n",
    "print('Element of Set A: ',len(A))"
   ]
  },
  {
   "cell_type": "markdown",
   "metadata": {},
   "source": [
    "76. Set Membership Test: Write a Python program that takes an element as input and checks if it exists in a given set. Print “Found” if the element is present and “Not Found” otherwise."
   ]
  },
  {
   "cell_type": "code",
   "execution_count": 38,
   "metadata": {},
   "outputs": [
    {
     "name": "stdout",
     "output_type": "stream",
     "text": [
      "Set A:  {1, 3, 5, 7, 9}\n",
      "6 Not Found\n"
     ]
    }
   ],
   "source": [
    "A = {1,3,5,7,9}\n",
    "print('Set A: ',A)\n",
    "check_val = int(input('Enter Number = '))\n",
    "is_exist = False\n",
    "for i in A:\n",
    "    if i==check_val:\n",
    "        is_exist = True\n",
    "if is_exist:\n",
    "    print(check_val,'Found')\n",
    "else:\n",
    "    print(check_val,'Not Found')"
   ]
  },
  {
   "cell_type": "markdown",
   "metadata": {},
   "source": [
    "Dictionary Problems:"
   ]
  },
  {
   "cell_type": "markdown",
   "metadata": {},
   "source": [
    "77. Dictionary Manipulation: Given a dictionary with student names as keys and their corresponding scores as values, write a Python program to add a new student to the dictionary and update the score of an existing student."
   ]
  },
  {
   "cell_type": "code",
   "execution_count": 39,
   "metadata": {},
   "outputs": [
    {
     "name": "stdout",
     "output_type": "stream",
     "text": [
      "{'Abrar': 75, 'Fahad': 85, 'Hasan': 55, 'jahed': 69}\n",
      "{'Abrar': 75, 'Fahad': 85, 'Hasan': 55, 'jahed': 69, 'Ahad': 72}\n",
      "{'Abrar': 75, 'Fahad': 85, 'Hasan': 55, 'jahed': 69, 'Ahad': 72, 'Noman': 49}\n",
      "{'Abrar': 75, 'Fahad': 80, 'Hasan': 55, 'jahed': 69, 'Ahad': 72, 'Noman': 49}\n",
      "{'Abrar': 75, 'Fahad': 80, 'Hasan': 78, 'jahed': 69, 'Ahad': 72, 'Noman': 49}\n"
     ]
    }
   ],
   "source": [
    "std_dic = {'Abrar':75,'Fahad':85,'Hasan':55,'jahed':69}\n",
    "print(std_dic)\n",
    "\n",
    "std_dic['Ahad']=72\n",
    "print(std_dic)\n",
    "std_dic.update({'Noman':49})\n",
    "print(std_dic)\n",
    "\n",
    "std_dic['Fahad']=80\n",
    "print(std_dic)\n",
    "std_dic.update({'Hasan':78})\n",
    "print(std_dic)"
   ]
  },
  {
   "cell_type": "markdown",
   "metadata": {},
   "source": [
    "78. Dictionary Keys and Values: Write a Python program that takes a dictionary as input and prints all the keys and values in separate lines."
   ]
  },
  {
   "cell_type": "code",
   "execution_count": 40,
   "metadata": {},
   "outputs": [
    {
     "name": "stdout",
     "output_type": "stream",
     "text": [
      "Keys:  Abir,Sakib,Fahad,\n",
      "Values:  Manager,Player,Student,"
     ]
    }
   ],
   "source": [
    "\n",
    "emp_dic = {}\n",
    "emp_list =['Abir','Manager','Sakib','Player','Fahad','Student']\n",
    "\n",
    "i=0     \n",
    "while i<len(emp_list):\n",
    "    key = emp_list[i]\n",
    "    i = i + 1\n",
    "    val = emp_list[i]\n",
    "    i = i + 1\n",
    "    emp_dic[key]=val\n",
    "\n",
    "\n",
    "\n",
    "print('Keys: ',end=' ')\n",
    "for key in emp_dic:\n",
    "    print(key,end=',')\n",
    "\n",
    "print()\n",
    "print('Values: ',end=' ')\n",
    "for key in emp_dic:\n",
    "    print(emp_dic[key],end=',')"
   ]
  },
  {
   "cell_type": "markdown",
   "metadata": {},
   "source": [
    "79. Dictionary Length: Write a Python program to calculate and print the number of key-value pairs in a given dictionary."
   ]
  },
  {
   "cell_type": "code",
   "execution_count": 41,
   "metadata": {},
   "outputs": [
    {
     "name": "stdout",
     "output_type": "stream",
     "text": [
      "{'Abrar': 75, 'Fahad': 85, 'Hasan': 55, 'jahed': 69}\n",
      "Number of keyvalue pairs:  4\n"
     ]
    }
   ],
   "source": [
    "std_dic = {'Abrar':75,'Fahad':85,'Hasan':55,'jahed':69}\n",
    "print(std_dic)\n",
    "print('Number of keyvalue pairs: ',len(std_dic))"
   ]
  },
  {
   "cell_type": "markdown",
   "metadata": {},
   "source": [
    "80. Dictionary Value Search: Given a dictionary of items and their prices, write a Python program to search for an item based on its price and print the item’s name."
   ]
  },
  {
   "cell_type": "code",
   "execution_count": 42,
   "metadata": {},
   "outputs": [
    {
     "name": "stdout",
     "output_type": "stream",
     "text": [
      "{'Chocolate': 120, 'Ice-Creame': 65, 'Juice': 80, 'Pasta': 150}\n",
      "Search Item:  Ice-Creame\n"
     ]
    }
   ],
   "source": [
    "item_dic = {'Chocolate':120,'Ice-Creame': 65,'Juice':80,'Pasta':150}\n",
    "print(item_dic)\n",
    "for item in item_dic:\n",
    "    if item_dic[item]==65:       \n",
    "        print('Search Item: ',item)\n",
    "        break"
   ]
  },
  {
   "cell_type": "markdown",
   "metadata": {},
   "source": [
    "81. Dictionary Merging: Given two dictionaries, write a Python program to merge them into a single dictionary and print the result."
   ]
  },
  {
   "cell_type": "code",
   "execution_count": 43,
   "metadata": {},
   "outputs": [
    {
     "name": "stdout",
     "output_type": "stream",
     "text": [
      "{'Chocolate': 120, 'Ice-Creame': 65}\n",
      "{'Juice': 80, 'Pasta': 150}\n",
      "{'Chocolate': 120, 'Ice-Creame': 65, 'Juice': 80, 'Pasta': 150}\n"
     ]
    }
   ],
   "source": [
    "item_dic_1 = {'Chocolate':120,'Ice-Creame': 65}\n",
    "print(item_dic_1)\n",
    "item_dic_2 = {'Juice':80,'Pasta':150}\n",
    "print(item_dic_2)\n",
    "#item_dic_1.update(item_dic_2)\n",
    "item_dic_1 = item_dic_1 | item_dic_2\n",
    "print(item_dic_1)"
   ]
  },
  {
   "cell_type": "markdown",
   "metadata": {},
   "source": [
    "82. Dictionary Key Removal: Given a dictionary of items and their quantities, write a Python program to remove a specific item from the dictionary based on user input."
   ]
  },
  {
   "cell_type": "code",
   "execution_count": 44,
   "metadata": {},
   "outputs": [
    {
     "name": "stdout",
     "output_type": "stream",
     "text": [
      "{'Chocolate': 120, 'Ice-Creame': 65, 'Juice': 80, 'Pasta': 150}\n",
      "{'Chocolate': 120, 'Ice-Creame': 65, 'Pasta': 150}\n"
     ]
    }
   ],
   "source": [
    "item_dic = {'Chocolate':120,'Ice-Creame': 65,'Juice':80,'Pasta':150}\n",
    "print(item_dic)\n",
    "\n",
    "item_dic.pop('Juice')\n",
    "print(item_dic)"
   ]
  },
  {
   "cell_type": "markdown",
   "metadata": {},
   "source": [
    "83. Dictionary Sorting: Given a dictionary with names as keys and corresponding ages as values, write a Python program to sort the dictionary based on age in ascending order."
   ]
  },
  {
   "cell_type": "code",
   "execution_count": 45,
   "metadata": {},
   "outputs": [
    {
     "name": "stdout",
     "output_type": "stream",
     "text": [
      "{'Omar': 25, 'Amir': 45, 'Sakib': 38, 'Riyad': 30}\n",
      "{'Omar': 25, 'Riyad': 30, 'Sakib': 38, 'Amir': 45}\n"
     ]
    }
   ],
   "source": [
    "cust_dic = {'Omar':25,'Amir':45,'Sakib':38,'Riyad':30}\n",
    "print(cust_dic)\n",
    "ages = list(cust_dic.values())\n",
    "ages.sort()\n",
    "cust_dic_sorted = {}\n",
    "for i in ages:\n",
    "    for key, val in cust_dic.items():\n",
    "        if val ==i:\n",
    "            cust_dic_sorted[key]=i\n",
    "            break\n",
    "print(cust_dic_sorted)"
   ]
  },
  {
   "cell_type": "markdown",
   "metadata": {},
   "source": [
    "84. Dictionary Frequency Count: Write a Python program that takes a string as input and creates a dictionary containing each character as a key and its frequency as the value."
   ]
  },
  {
   "cell_type": "code",
   "execution_count": 47,
   "metadata": {},
   "outputs": [
    {
     "name": "stdout",
     "output_type": "stream",
     "text": [
      "{'H': 1, 'e': 1, 'l': 3, 'o': 2, ' ': 1, 'W': 1, 'r': 1, 'd': 1}\n"
     ]
    }
   ],
   "source": [
    "str_inp = 'Hello World'\n",
    "str_list = list(str_inp)\n",
    "count_val = len(str_list)\n",
    "char_count_dic = {}\n",
    "i=0\n",
    "while i<count_val:\n",
    "    j=i+1\n",
    "    count_number = 1\n",
    "    if str_list[i]!=0:\n",
    "        while j<count_val:   \n",
    "            if str_list[i]==str_list[j]:\n",
    "                str_list[j]=0\n",
    "                count_number+=1\n",
    "            j+=1 \n",
    "        char_count_dic[str_list[i]]=count_number\n",
    "        str_list[i]=0\n",
    "    i+=1\n",
    "print(char_count_dic)"
   ]
  },
  {
   "cell_type": "markdown",
   "metadata": {},
   "source": [
    "85. Dictionary Comprehension: Given a list of integers, write a Python program to create a dictionary where the keys are the elements from the list, and the values are their squares."
   ]
  },
  {
   "cell_type": "code",
   "execution_count": 48,
   "metadata": {},
   "outputs": [
    {
     "name": "stdout",
     "output_type": "stream",
     "text": [
      "[1, 2, 3, 4, 5]\n",
      "{1: 1, 2: 4, 3: 9, 4: 16, 5: 25}\n"
     ]
    }
   ],
   "source": [
    "number_list = [1,2,3,4,5]\n",
    "print(number_list)\n",
    "number_sqr_dic = {i: i*i for i in number_list}\n",
    "print(number_sqr_dic)"
   ]
  },
  {
   "cell_type": "markdown",
   "metadata": {},
   "source": [
    "86. Dictionary Key Check: Write a Python program that takes a key as input and checks if it exists in a given dictionary. Print “Key Found” if the key is present and “Key Not Found” otherwise."
   ]
  },
  {
   "cell_type": "code",
   "execution_count": 49,
   "metadata": {},
   "outputs": [
    {
     "name": "stdout",
     "output_type": "stream",
     "text": [
      "Key Found\n"
     ]
    }
   ],
   "source": [
    "cust_dic = {1:'Amir',2:'Sakib',3:'Kamal',4:'Riyad'}\n",
    "\n",
    "check_key = 3\n",
    "is_exist = False\n",
    "for key in cust_dic:\n",
    "    if check_key==key:\n",
    "        is_exist = True\n",
    "if is_exist:\n",
    "    print('Key Found')\n",
    "else:\n",
    "    print('Key not Found')"
   ]
  },
  {
   "cell_type": "markdown",
   "metadata": {},
   "source": [
    "Nested Dictionary Problems:"
   ]
  },
  {
   "cell_type": "markdown",
   "metadata": {},
   "source": [
    "87. Access Nested Dictionary: Given a nested dictionary containing student details, write a Python program to access and print specific information such as a student’s name, age, and address."
   ]
  },
  {
   "cell_type": "code",
   "execution_count": 50,
   "metadata": {},
   "outputs": [
    {
     "name": "stdout",
     "output_type": "stream",
     "text": [
      "student1\n",
      "----------\n",
      "name  :  Abir\n",
      "age  :  20\n",
      "address  :  city\n",
      "==========\n",
      "student2\n",
      "----------\n",
      "name  :  Fahad\n",
      "age  :  25\n",
      "address  :  dhk\n",
      "==========\n",
      "student3\n",
      "----------\n",
      "name  :  Hasan\n",
      "age  :  22\n",
      "address  :  ctg\n",
      "==========\n"
     ]
    }
   ],
   "source": [
    "std_dic = {\n",
    "    'student1': {\n",
    "        'name': 'Abir',\n",
    "        'age': 20,\n",
    "        'address': 'city'\n",
    "    },\n",
    "    'student2': {\n",
    "        'name': 'Fahad',\n",
    "        'age': 25,\n",
    "        'address': 'dhk'\n",
    "    },\n",
    "    'student3': {\n",
    "        'name': 'Hasan',\n",
    "        'age': 22,\n",
    "        'address': 'ctg'\n",
    "    }\n",
    "    \n",
    "}\n",
    "for key, val in std_dic.items():\n",
    "    print(key)\n",
    "    print('----------')\n",
    "    for key, val in val.items():\n",
    "        print(key,' : ',val)\n",
    "    print('==========')  "
   ]
  },
  {
   "cell_type": "markdown",
   "metadata": {},
   "source": [
    "88. Nested Dictionary Length: Write a Python program to calculate and print the total number of key-value pairs in a nested dictionary."
   ]
  },
  {
   "cell_type": "code",
   "execution_count": 51,
   "metadata": {},
   "outputs": [
    {
     "name": "stdout",
     "output_type": "stream",
     "text": [
      "Total:  3\n",
      "Sub Total:  3\n",
      "Sub Total:  3\n",
      "Sub Total:  3\n"
     ]
    }
   ],
   "source": [
    "std_dic = {\n",
    "    'student1': {\n",
    "        'name': 'Abir',\n",
    "        'age': 20,\n",
    "        'address': 'city'\n",
    "    },\n",
    "    'student2': {\n",
    "        'name': 'Fahad',\n",
    "        'age': 25,\n",
    "        'address': 'dhk'\n",
    "    },\n",
    "    'student3': {\n",
    "        'name': 'Hasan',\n",
    "        'age': 22,\n",
    "        'address': 'ctg'\n",
    "    }\n",
    "    \n",
    "}\n",
    "print('Total: ',len(std_dic))\n",
    "\n",
    "for key,value in std_dic.items():\n",
    "    print('Sub Total: ',len(value))\n"
   ]
  },
  {
   "cell_type": "markdown",
   "metadata": {},
   "source": [
    "89. Nested Dictionary Update: Given a nested dictionary of employee details, write a Python program to update an employee’s salary based on their employee ID."
   ]
  },
  {
   "cell_type": "code",
   "execution_count": 55,
   "metadata": {},
   "outputs": [
    {
     "name": "stdout",
     "output_type": "stream",
     "text": [
      "person1\n",
      "id  :  1\n",
      "name  :  Abir\n",
      "designation  :  manager\n",
      "salary  :  30000\n",
      "person2\n",
      "id  :  2\n",
      "name  :  Fahad\n",
      "designation  :  exicutive\n",
      "salary  :  20000\n",
      "person3\n",
      "id  :  3\n",
      "name  :  Hasan\n",
      "designation  :  sr. exicutive\n",
      "salary  :  25000\n",
      "person1\n",
      "id  :  1\n",
      "name  :  Abir\n",
      "designation  :  manager\n",
      "salary  :  30000\n",
      "person2\n",
      "id  :  2\n",
      "name  :  Fahad\n",
      "designation  :  exicutive\n",
      "salary  :  22000.0\n",
      "person3\n",
      "id  :  3\n",
      "name  :  Hasan\n",
      "designation  :  sr. exicutive\n",
      "salary  :  27500.0\n"
     ]
    }
   ],
   "source": [
    "emp_dic = {\n",
    "    'person1': {\n",
    "        'id':1,\n",
    "        'name': 'Abir',\n",
    "        'designation': 'manager',\n",
    "        'salary': 30000\n",
    "    },\n",
    "    'person2': {\n",
    "        'id':2,\n",
    "        'name': 'Fahad',\n",
    "        'designation': 'exicutive',\n",
    "        'salary': 20000\n",
    "    },\n",
    "    'person3': {\n",
    "        'id':3,\n",
    "        'name': 'Hasan',\n",
    "        'designation': 'sr. exicutive',\n",
    "        'salary': 25000\n",
    "    } \n",
    "}\n",
    "for key, val in emp_dic.items():\n",
    "    print(key)\n",
    "    \n",
    "    for key, val in val.items():\n",
    "        print(key,' : ',val)\n",
    "    \n",
    "id = 0\n",
    "for key, val in emp_dic.items():\n",
    "    k=key\n",
    "    for key, val in val.items():\n",
    "        if val==2:\n",
    "            id=val\n",
    "        if id==2 and key=='salary':\n",
    "            emp_dic[k][key] = val+val*.1 \n",
    "\n",
    "for key, val in emp_dic.items():\n",
    "    print(key)\n",
    "    \n",
    "    for key, val in val.items():\n",
    "        print(key,' : ',val)\n",
    "    "
   ]
  },
  {
   "cell_type": "markdown",
   "metadata": {},
   "source": [
    "91. Nested Dictionary Key Search: Write a Python program that takes a key as input and searches for it in a nested dictionary. If found, print the corresponding value, otherwise, print “Key Not Found.”"
   ]
  },
  {
   "cell_type": "code",
   "execution_count": 56,
   "metadata": {},
   "outputs": [
    {
     "name": "stdout",
     "output_type": "stream",
     "text": [
      "person1\n",
      "----------\n",
      "id  :  1\n",
      "name  :  Abir\n",
      "designation  :  manager\n",
      "salary  :  30000\n",
      "==========\n",
      "person2\n",
      "----------\n",
      "id  :  2\n",
      "name  :  Fahad\n",
      "designation  :  exicutive\n",
      "salary  :  20000\n",
      "==========\n",
      "person3\n",
      "----------\n",
      "id  :  3\n",
      "name  :  Hasan\n",
      "designation  :  sr. exicutive\n",
      "salary  :  25000\n",
      "==========\n",
      "----------Show salary search by id:  ------------\n",
      "id:  3 , Salary:  25000\n"
     ]
    }
   ],
   "source": [
    "emp_dic = {\n",
    "    'person1': {\n",
    "        'id':1,\n",
    "        'name': 'Abir',\n",
    "        'designation': 'manager',\n",
    "        'salary': 30000\n",
    "    },\n",
    "    'person2': {\n",
    "        'id':2,\n",
    "        'name': 'Fahad',\n",
    "        'designation': 'exicutive',\n",
    "        'salary': 20000\n",
    "    },\n",
    "    'person3': {\n",
    "        'id':3,\n",
    "        'name': 'Hasan',\n",
    "        'designation': 'sr. exicutive',\n",
    "        'salary': 25000\n",
    "    } \n",
    "}\n",
    "for key, val in emp_dic.items():\n",
    "    print(key)\n",
    "    print('----------')\n",
    "    for key, val in val.items():\n",
    "        print(key,' : ',val)\n",
    "    print('==========')\n",
    "print('----------Show salary search by id:  ------------')\n",
    "#search_id = int(input('Type id: '))\n",
    "search_id = 3\n",
    "id = 0\n",
    "is_exist = False\n",
    "for key, val in emp_dic.items():\n",
    "    k=key\n",
    "    for key, val in val.items():\n",
    "        if val==search_id:\n",
    "            id=val\n",
    "            is_exist = True\n",
    "        if id==search_id and key=='salary' and is_exist:\n",
    "            is_exist = False\n",
    "            print('id: ',id,', Salary: ',val)\n",
    "            break\n",
    "if id==0:\n",
    "    print('Not found')"
   ]
  },
  {
   "cell_type": "markdown",
   "metadata": {},
   "source": [
    "Break & Continue: "
   ]
  },
  {
   "cell_type": "markdown",
   "metadata": {},
   "source": [
    "92. Prime Number Checker: Write a Python program that takes a number as input and determines if it is a prime number or not. Use a `for` loop to check for factors. If a factor is found, `break` out of the loop."
   ]
  },
  {
   "cell_type": "code",
   "execution_count": 58,
   "metadata": {},
   "outputs": [
    {
     "name": "stdout",
     "output_type": "stream",
     "text": [
      "5  is prime number\n"
     ]
    }
   ],
   "source": [
    "number = int(input('Enter Number = '))\n",
    "is_prime = True\n",
    "for i in range(2,number):\n",
    "    if number%i==0 and number!=2:\n",
    "        is_prime = False\n",
    "        break\n",
    "if is_prime:\n",
    "    print(number,' is prime number')\n",
    "else:\n",
    "    print(number,' is not prime number')"
   ]
  },
  {
   "cell_type": "markdown",
   "metadata": {},
   "source": [
    "93. Even Number Printer: Write a Python program to print all even numbers from 1 to 20. Use a `for` loop and `continue` to skip odd numbers."
   ]
  },
  {
   "cell_type": "code",
   "execution_count": 59,
   "metadata": {},
   "outputs": [
    {
     "name": "stdout",
     "output_type": "stream",
     "text": [
      "2 4 6 8 10 12 14 16 18 20 "
     ]
    }
   ],
   "source": [
    "for i in range(1,21):\n",
    "    if i%2!=0:\n",
    "        continue\n",
    "    print(i,end=' ')"
   ]
  },
  {
   "cell_type": "markdown",
   "metadata": {},
   "source": [
    "94. Password Validator: Write a Python program that takes a password as input and checks if it meets the following criteria: at least 8 characters long, contains both uppercase and lowercase letters, and has at least one digit. If the password is valid, print “Password accepted.” If not, use `continue` to prompt the user to enter a valid password."
   ]
  },
  {
   "cell_type": "code",
   "execution_count": 60,
   "metadata": {},
   "outputs": [
    {
     "name": "stdout",
     "output_type": "stream",
     "text": [
      "Password accepted\n"
     ]
    }
   ],
   "source": [
    "def is_eight_char(cl):\n",
    "    if len(cl)>=8:\n",
    "        return True\n",
    "    return False\n",
    "def is_upper_case(cl):\n",
    "    for i in cl:\n",
    "        if ord(i)>=65 and ord(i)<=89:\n",
    "            return True\n",
    "    return False\n",
    "def is_lower_case(cl):\n",
    "    for i in cl:\n",
    "        if ord(i)>=97 and ord(i)<=122:\n",
    "            return True\n",
    "    return False\n",
    "def is_number(cl):\n",
    "    for i in cl:\n",
    "        if ord(i)>=48 and ord(i)<=57:\n",
    "            return True\n",
    "    return False\n",
    "password = 'Abcd@1234'\n",
    "char_list = list(password)\n",
    "if is_eight_char(char_list) and is_upper_case(char_list) and is_lower_case(char_list) and is_number(char_list):\n",
    "    print('Password accepted')\n",
    "else:\n",
    "    print('Password not accepted')"
   ]
  },
  {
   "cell_type": "markdown",
   "metadata": {},
   "source": [
    "95. Divisible by 3 or 5: Write a Python program to print all numbers from 1 to 50 that are divisible by either 3 or 5. Use a `for` loop and `continue` to skip numbers that are not divisible by either 3 or 5."
   ]
  },
  {
   "cell_type": "code",
   "execution_count": 61,
   "metadata": {},
   "outputs": [
    {
     "name": "stdout",
     "output_type": "stream",
     "text": [
      "3,5,6,9,10,12,15,18,20,21,24,25,27,30,33,35,36,39,40,42,45,48,50,"
     ]
    }
   ],
   "source": [
    "for i in range(1,51):\n",
    "    if i%3==0 or i%5==0:\n",
    "        print(i,end=',')\n",
    "    else:\n",
    "        continue"
   ]
  },
  {
   "cell_type": "markdown",
   "metadata": {},
   "source": [
    "96. Positive Number Sum: Write a Python program that takes positive numbers as input until a negative number is entered. Then, calculate and print the sum of all positive numbers entered. Use a `while` loop and `break` to exit the loop when a negative number is encountered."
   ]
  },
  {
   "cell_type": "code",
   "execution_count": 62,
   "metadata": {},
   "outputs": [
    {
     "name": "stdout",
     "output_type": "stream",
     "text": [
      "Sum of all positive numbers:  12\n"
     ]
    }
   ],
   "source": [
    "num_list = [1,4,7,-8,3,5]\n",
    "sum = 0\n",
    "\n",
    "for number in num_list:\n",
    "    if number<0:\n",
    "        break\n",
    "    sum = sum + number\n",
    "print('Sum of all positive numbers: ',sum)"
   ]
  },
  {
   "cell_type": "markdown",
   "metadata": {},
   "source": [
    "97. Word Palindrome Checker: Write a Python program that takes a word as input and checks if it is a palindrome (reads the same forwards and backward). Use `continue` to skip checking the word if its length is less than 3 characters."
   ]
  },
  {
   "cell_type": "code",
   "execution_count": 63,
   "metadata": {},
   "outputs": [
    {
     "name": "stdout",
     "output_type": "stream",
     "text": [
      "Not palindrome\n"
     ]
    }
   ],
   "source": [
    "word = 'Hello world'\n",
    "char_list = list(word)\n",
    "if len(char_list)<3:\n",
    "    print('Word is less than 3 char')\n",
    "else:\n",
    "    i = 0\n",
    "    j = len(char_list)-1\n",
    "    c = len(char_list)//2\n",
    "    m = 0\n",
    "    while i<c:\n",
    "        if char_list[i]==char_list[j]:\n",
    "            m=m+1\n",
    "        i=i+1\n",
    "        j=j-1\n",
    "    if m==c:\n",
    "        print('Palindrome')\n",
    "    else:\n",
    "        print('Not palindrome')"
   ]
  },
  {
   "cell_type": "markdown",
   "metadata": {},
   "source": [
    "98. Odd Number Finder: Write a Python program to find the first odd number from a list of integers. Use a `for` loop and `break` to stop the loop when the first odd number is found."
   ]
  },
  {
   "cell_type": "code",
   "execution_count": 64,
   "metadata": {},
   "outputs": [
    {
     "name": "stdout",
     "output_type": "stream",
     "text": [
      "9  is first odd number\n"
     ]
    }
   ],
   "source": [
    "num_list = [4,8,9,6,3,2,10]\n",
    "for i in num_list:\n",
    "    if i%2!=0:\n",
    "        print(i,' is first odd number')\n",
    "        break"
   ]
  },
  {
   "cell_type": "markdown",
   "metadata": {},
   "source": [
    "99. Number Guessing Game: Write a Python program that generates a random number between 1 and 100 and lets the user guess the number. Use a `while` loop, `break` when the correct number is guessed, and `continue` to keep prompting the user until they guess correctly."
   ]
  },
  {
   "cell_type": "code",
   "execution_count": 79,
   "metadata": {},
   "outputs": [
    {
     "name": "stdout",
     "output_type": "stream",
     "text": [
      "Random:  80\n",
      "Correct number is guessed\n"
     ]
    }
   ],
   "source": [
    "from random import *\n",
    "rand_num = randint(1, 100)\n",
    "num_list = [i for i in range(1,101)]\n",
    "print('Random: ',rand_num)\n",
    "for number in num_list:\n",
    "    if rand_num==number:\n",
    "        print('Correct number is guessed')\n",
    "        break;"
   ]
  },
  {
   "cell_type": "markdown",
   "metadata": {},
   "source": [
    "100. Vowel Counter: Write a Python program that takes a string as input and counts the number of vowels (a, e, i, o, u) in it. Use a `for` loop and `continue` to skip counting non-vowel characters."
   ]
  },
  {
   "cell_type": "code",
   "execution_count": 80,
   "metadata": {},
   "outputs": [
    {
     "name": "stdout",
     "output_type": "stream",
     "text": [
      "Number vowel:  3\n"
     ]
    }
   ],
   "source": [
    "text = 'Hello world'\n",
    "char_list = list(text)\n",
    "c = 0\n",
    "for i in char_list:\n",
    "    if i=='a' or i=='e' or i=='i' or i=='o' or i=='u':\n",
    "        c = c + 1\n",
    "    else:\n",
    "        continue\n",
    "print('Number vowel: ',c)"
   ]
  },
  {
   "cell_type": "markdown",
   "metadata": {},
   "source": [
    "101. Unique Characters: Write a Python program that takes a string as input and checks if it contains all unique characters (no character repeats). Use a `for` loop and `break` when a character repeats."
   ]
  },
  {
   "cell_type": "code",
   "execution_count": 82,
   "metadata": {},
   "outputs": [
    {
     "name": "stdout",
     "output_type": "stream",
     "text": [
      "l  is contain repeated char\n"
     ]
    }
   ],
   "source": [
    "text = str(input('Enter String = '))\n",
    "char_list = list(text)\n",
    "c = 1\n",
    "is_repeat = True\n",
    "for i in char_list:\n",
    "    j = c\n",
    "    while j<len(char_list):\n",
    "        if i==char_list[j]:\n",
    "            print(i,' is contain repeated char')\n",
    "            is_repeat = False\n",
    "            break\n",
    "        j = j + 1\n",
    "    c = c + 1\n",
    "if is_repeat:\n",
    "    print(text,' is contain uniqe char')  "
   ]
  },
  {
   "cell_type": "markdown",
   "metadata": {},
   "source": [
    "Functions Problems:"
   ]
  },
  {
   "cell_type": "markdown",
   "metadata": {},
   "source": [
    "102. Factorial Calculator: Write a Python function called `factorial` that takes an integer as input and returns its factorial. Test the function with different values."
   ]
  },
  {
   "cell_type": "code",
   "execution_count": 84,
   "metadata": {},
   "outputs": [
    {
     "name": "stdout",
     "output_type": "stream",
     "text": [
      "479001600\n"
     ]
    }
   ],
   "source": [
    "def factorial(n):\n",
    "    if n<1:\n",
    "        return 1\n",
    "    else:\n",
    "        return n*factorial(n-1)\n",
    "number = int(input('Type number: '))\n",
    "print(factorial(number))"
   ]
  },
  {
   "cell_type": "markdown",
   "metadata": {},
   "source": [
    "103. Palindrome Checker: Write a Python function called `is_palindrome` that takes a string as input and returns `True` if it is a palindrome and `False` otherwise. Test the function with different words."
   ]
  },
  {
   "cell_type": "code",
   "execution_count": 86,
   "metadata": {},
   "outputs": [
    {
     "name": "stdout",
     "output_type": "stream",
     "text": [
      "Not palindrome\n"
     ]
    }
   ],
   "source": [
    "def is_palindrome(char_list):\n",
    "    i = 0\n",
    "    j = len(char_list)-1\n",
    "    c = len(char_list)//2\n",
    "    m = 0\n",
    "    while i<c:\n",
    "        if char_list[i]==char_list[j]:\n",
    "            m=m+1\n",
    "        i=i+1\n",
    "        j=j-1\n",
    "    if m==c:\n",
    "        return True\n",
    "    else:\n",
    "        return False  \n",
    "    \n",
    "word = input('Type word: ')\n",
    "char_list = list(word)\n",
    "if is_palindrome(char_list):\n",
    "    print('Palindrome')\n",
    "else:\n",
    "    print('Not palindrome')\n"
   ]
  },
  {
   "cell_type": "markdown",
   "metadata": {},
   "source": [
    "104. Even or Odd Checker: Write a Python function called `even_or_odd` that takes an integer as input and returns “Even” if the number is even and “Odd” if the number is odd. Test the function with different numbers."
   ]
  },
  {
   "cell_type": "code",
   "execution_count": 88,
   "metadata": {},
   "outputs": [
    {
     "name": "stdout",
     "output_type": "stream",
     "text": [
      "Odd number\n"
     ]
    }
   ],
   "source": [
    "def even_or_odd(n):\n",
    "    if n%2==0:\n",
    "        return True\n",
    "    else:\n",
    "        return False\n",
    "\n",
    "number = int(input('Type number: '))\n",
    "if even_or_odd(number):\n",
    "    print('Even number')\n",
    "else:\n",
    "    print('Odd number')"
   ]
  },
  {
   "cell_type": "markdown",
   "metadata": {},
   "source": [
    "105. List Sum Calculator: Write a Python function called `list_sum` that takes a list of integers as input and returns the sum of all elements in the list. Test the function with different lists."
   ]
  },
  {
   "cell_type": "code",
   "execution_count": 89,
   "metadata": {},
   "outputs": [
    {
     "name": "stdout",
     "output_type": "stream",
     "text": [
      "42\n"
     ]
    }
   ],
   "source": [
    "def list_sum(num_list):\n",
    "    sum = 0\n",
    "    for i in num_list:\n",
    "        sum = sum + i\n",
    "    return sum\n",
    "num_list = [4,8,9,6,3,2,10]\n",
    "print(list_sum(num_list))"
   ]
  },
  {
   "cell_type": "markdown",
   "metadata": {},
   "source": [
    "106. Greatest Common Divisor (GCD) Calculator: Write a Python function called `gcd` that takes two integers as input and returns their greatest common divisor. Test the function with different pairs of numbers."
   ]
  },
  {
   "cell_type": "code",
   "execution_count": 91,
   "metadata": {},
   "outputs": [
    {
     "name": "stdout",
     "output_type": "stream",
     "text": [
      "12\n"
     ]
    }
   ],
   "source": [
    "def gcd(n1,n2):\n",
    "    if(n2 == 0):\n",
    "        return n1\n",
    "    else:\n",
    "        return gcd(n2, n1 % n2)\n",
    "num_1 = int(input('Type number 1: '))\n",
    "num_2 = int(input('Type number 2: '))\n",
    "\n",
    "print(gcd(60,48))"
   ]
  },
  {
   "cell_type": "markdown",
   "metadata": {},
   "source": [
    "107. Leap Year Checker: Write a Python function called `is_leap_year` that takes a year as input and returns `True` if it is a leap year and `False` otherwise. Test the function with different years."
   ]
  },
  {
   "cell_type": "code",
   "execution_count": 93,
   "metadata": {},
   "outputs": [
    {
     "name": "stdout",
     "output_type": "stream",
     "text": [
      "2024  is leap year\n"
     ]
    }
   ],
   "source": [
    "def check_leap(year): \n",
    "    if((year % 400 == 0) or (year % 100 != 0) and (year % 4 == 0)):   \n",
    "        return True  \n",
    "    else:\n",
    "        return False \n",
    "year = int(input('Type year: '))\n",
    "\n",
    "if check_leap(year):\n",
    "    print(year,' is leap year')\n",
    "else:\n",
    "    print(year,' is not leap year')\n"
   ]
  },
  {
   "cell_type": "markdown",
   "metadata": {},
   "source": [
    "Nested Functions Problems:"
   ]
  },
  {
   "cell_type": "markdown",
   "metadata": {},
   "source": [
    "108. Math Operations: Write a Python function called `math_operations` that takes three numbers and a string representing an operation (‘add’, ‘subtract’, ‘multiply’, or ‘divide’). The function should return the result of the specified operation on the three numbers. Implement the math operations as nested functions."
   ]
  },
  {
   "cell_type": "code",
   "execution_count": 94,
   "metadata": {},
   "outputs": [
    {
     "name": "stdout",
     "output_type": "stream",
     "text": [
      "15\n",
      "6\n",
      "20\n",
      "3.75\n",
      "Error\n"
     ]
    }
   ],
   "source": [
    "def math_operation(a,b,c,operation):\n",
    "    def addition(a,b,c):\n",
    "        print(a+b+c)\n",
    "    def sbtraction(a,b,c):\n",
    "        print(a-b-c)\n",
    "    def multiplication(a,b,c):\n",
    "        print(a*b*c)\n",
    "    def division(a,b,c):\n",
    "        print(a/b/c)\n",
    "    def error():\n",
    "        print('Error')\n",
    "    if operation=='add':\n",
    "        addition(a,b,c)\n",
    "    elif operation=='subtract':\n",
    "        sbtraction(a,b,c)\n",
    "    elif operation=='multiply':\n",
    "        multiplication(a,b,c)\n",
    "    elif operation=='divide':\n",
    "        division(a,b,c)\n",
    "    else:\n",
    "        error()\n",
    "\n",
    "math_operation(5,8,2,'add')\n",
    "math_operation(15,2,7,'subtract')\n",
    "math_operation(5,2,2,'multiply')\n",
    "math_operation(15,2,2,'divide')\n",
    "math_operation(15,2,2,'equal')"
   ]
  },
  {
   "cell_type": "markdown",
   "metadata": {},
   "source": [
    "109. Greeting Generator: Write a Python function called `greeting_generator` that takes a name as input and returns a greeting message using nested functions. The greeting message should be customizable (e.g., “Hello, {name}! How are you today?”)."
   ]
  },
  {
   "cell_type": "code",
   "execution_count": 95,
   "metadata": {},
   "outputs": [
    {
     "name": "stdout",
     "output_type": "stream",
     "text": [
      "Hello,  shihab ! How are uyou today?\n"
     ]
    }
   ],
   "source": [
    "def greeting_generator(name):\n",
    "    def get_name():\n",
    "        return name\n",
    "    print('Hello, ',get_name(),'! How are uyou today?')\n",
    "greeting_generator('shihab')"
   ]
  },
  {
   "cell_type": "markdown",
   "metadata": {},
   "source": [
    "110. Temperature Converter: Write a Python function called `temperature_converter` that takes a temperature value and a string representing the scale (‘C’ for Celsius or ‘F’ for Fahrenheit) as input. The function should convert the temperature from one scale to the other using nested functions and return the converted value."
   ]
  },
  {
   "cell_type": "code",
   "execution_count": 96,
   "metadata": {},
   "outputs": [
    {
     "name": "stdout",
     "output_type": "stream",
     "text": [
      "68  fahrenheit =  20.0  = celsius\n",
      "20  celsius =  68.0  = fahrenheit\n"
     ]
    }
   ],
   "source": [
    "def temperature_converter(p1,p2):\n",
    "    def convert_celsius():\n",
    "        return (p1-32) * 5/9\n",
    "    def convert_fahrenheit():\n",
    "        return (p1 * 9/5) + 32\n",
    "    if p2=='c':\n",
    "        print(p1,' fahrenheit = ',convert_celsius(),' = celsius')\n",
    "    elif p2=='f':\n",
    "        print(p1,' celsius = ',convert_fahrenheit(),' = fahrenheit')\n",
    "    else:\n",
    "        print('Error')\n",
    "temperature_converter(68,'c')\n",
    "temperature_converter(20,'f')"
   ]
  },
  {
   "cell_type": "markdown",
   "metadata": {},
   "source": [
    "Recursion: "
   ]
  },
  {
   "cell_type": "markdown",
   "metadata": {},
   "source": [
    "111. Factorial Calculation: Write a recursive Python function called `factorial` that takes a non-negative integer as input and returns its factorial."
   ]
  },
  {
   "cell_type": "code",
   "execution_count": 97,
   "metadata": {},
   "outputs": [
    {
     "data": {
      "text/plain": [
       "120"
      ]
     },
     "execution_count": 97,
     "metadata": {},
     "output_type": "execute_result"
    }
   ],
   "source": [
    "def factorial(n):\n",
    "    if n<1:\n",
    "        return 1\n",
    "    else:\n",
    "        return n*factorial(n-1)\n",
    "factorial(5)"
   ]
  },
  {
   "cell_type": "markdown",
   "metadata": {},
   "source": [
    "112. Fibonacci Series: Write a recursive Python function called `Fibonacci` that takes an integer N as input and returns the Nth number in the Fibonacci series. The Fibonacci series is defined as follows: F(0) = 0, F(1) = 1, and F(n) = F(n-1) + F(n-2) for n > 1."
   ]
  },
  {
   "cell_type": "code",
   "execution_count": 98,
   "metadata": {},
   "outputs": [
    {
     "name": "stdout",
     "output_type": "stream",
     "text": [
      "8\n"
     ]
    }
   ],
   "source": [
    "def fibonacci(n):\n",
    "    if n <= 1:\n",
    "        return n;\n",
    "    return fibonacci(n - 1) + fibonacci(n - 2);\n",
    "print(fibonacci(6))"
   ]
  },
  {
   "cell_type": "markdown",
   "metadata": {},
   "source": [
    "113. The sum of Digits: Write a recursive Python function called `sum_of_digits` that takes an integer as input and returns the sum of its digits."
   ]
  },
  {
   "cell_type": "code",
   "execution_count": 99,
   "metadata": {},
   "outputs": [
    {
     "name": "stdout",
     "output_type": "stream",
     "text": [
      "15\n"
     ]
    }
   ],
   "source": [
    "def sum_of_digit(n):\n",
    "    if n<1:\n",
    "        return 0;\n",
    "    return n%10+sum_of_digit(n//10);\n",
    "print(sum_of_digit(456))"
   ]
  },
  {
   "cell_type": "markdown",
   "metadata": {},
   "source": [
    "114. Binary Search: Write a recursive Python function called `binary_search` that takes a sorted list and a target value as input and returns the index of the target value in the list using binary search. If the target value is not in the list, return -1."
   ]
  },
  {
   "cell_type": "code",
   "execution_count": 100,
   "metadata": {},
   "outputs": [
    {
     "name": "stdout",
     "output_type": "stream",
     "text": [
      "The given list is\n",
      "[2, 4, 6, 9, 12, 16, 18, 19, 20, 21, 22]\n",
      "Element searched is found at the index  3 of given list\n"
     ]
    }
   ],
   "source": [
    "def binary_search(L, start, end, item):  \n",
    "    if end >= start:  \n",
    "        middle = (start + end) // 2  \n",
    "        if L[middle] == item:  \n",
    "            return middle \n",
    "        elif L[middle] > item:   \n",
    "            return binary_search(L, start, middle - 1, item)  \n",
    "        else:  \n",
    "            return binary_search(L, middle + 1, end, item)  \n",
    "    else:  \n",
    "        return -1  \n",
    "    \n",
    "my_list = [ 2, 4, 6, 9, 12, 16, 18, 19, 20, 21, 22 ]  \n",
    "element_to_search = 9  \n",
    "print(\"The given list is\")  \n",
    "print(my_list)  \n",
    "  \n",
    "index_of_element = binary_search(my_list, 0, len(my_list)-1, element_to_search)  \n",
    "  \n",
    "if index_of_element != -1:  \n",
    "    print(\"Element searched is found at the index \", str(index_of_element), \"of given list\")  \n",
    "else:  \n",
    "    print(\"Element searched is not found in the given list!\")  "
   ]
  },
  {
   "cell_type": "markdown",
   "metadata": {},
   "source": [
    "115. Power Calculation: Write a recursive Python function called `power` that takes two positive integers, base and exponent, as input and returns the value of base raised to the exponent."
   ]
  },
  {
   "cell_type": "code",
   "execution_count": 101,
   "metadata": {},
   "outputs": [
    {
     "name": "stdout",
     "output_type": "stream",
     "text": [
      "25\n"
     ]
    }
   ],
   "source": [
    "def power(n, p):\n",
    "    if p == 0:\n",
    "        return 1\n",
    "    return (n*power(n, p-1)) \n",
    "print(power(5, 2))"
   ]
  }
 ],
 "metadata": {
  "kernelspec": {
   "display_name": "Python 3 (ipykernel)",
   "language": "python",
   "name": "python3"
  },
  "language_info": {
   "codemirror_mode": {
    "name": "ipython",
    "version": 3
   },
   "file_extension": ".py",
   "mimetype": "text/x-python",
   "name": "python",
   "nbconvert_exporter": "python",
   "pygments_lexer": "ipython3",
   "version": "3.11.5"
  }
 },
 "nbformat": 4,
 "nbformat_minor": 5
}
